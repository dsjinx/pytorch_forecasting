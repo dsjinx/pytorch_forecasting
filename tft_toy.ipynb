{
 "cells": [
  {
   "cell_type": "code",
   "execution_count": 18,
   "id": "2ede437d",
   "metadata": {},
   "outputs": [
    {
     "name": "stdout",
     "output_type": "stream",
     "text": [
      "Current Working Directory: /home/daokedao999/.local/share/jupyter/kernels/myenv\n"
     ]
    }
   ],
   "source": [
    "import os\n",
    "import numpy as np\n",
    "import pandas as pd\n",
    "\n",
    "import lightning.pytorch as pl\n",
    "import torch\n",
    "\n",
    "from lightning.pytorch.tuner import Tuner\n",
    "from lightning.pytorch.callbacks import EarlyStopping, LearningRateMonitor\n",
    "from lightning.pytorch.loggers import TensorBoardLogger\n",
    "from tensorboard import program\n",
    "from pytorch_forecasting import Baseline, TemporalFusionTransformer, TimeSeriesDataSet\n",
    "from pytorch_forecasting.data import EncoderNormalizer\n",
    "from pytorch_forecasting.metrics import QuantileLoss, SMAPE, MAPE\n",
    "\n",
    "import matplotlib.pyplot as plt\n",
    "import seaborn as sns\n",
    "\n",
    "import warnings\n",
    "warnings.filterwarnings(\"ignore\")\n",
    "\n",
    "import os\n",
    "print(\"Current Working Directory:\", os.getcwd())"
   ]
  },
  {
   "cell_type": "code",
   "execution_count": 2,
   "id": "3d77e925",
   "metadata": {},
   "outputs": [
    {
     "name": "stdout",
     "output_type": "stream",
     "text": [
      "   time_idx      vals  group_ids\n",
      "0         0  0.000000         66\n",
      "1         1  0.020201         66\n",
      "2         2  0.040393         66\n",
      "3         3  0.060569         66\n",
      "4         4  0.080720         66\n",
      "5         5  0.100838         66\n",
      "6         6  0.120916         66\n",
      "7         7  0.140943         66\n",
      "8         8  0.160914         66\n",
      "9         9  0.180818         66\n",
      "(100, 3)\n",
      "time_idx       int64\n",
      "vals         float64\n",
      "group_ids      int64\n",
      "dtype: object\n"
     ]
    }
   ],
   "source": [
    "# Create the 'time_idx' column with incremental values from 0 to 99\n",
    "time_idx = np.arange(100)\n",
    "#if there is a \"date\" column in the form of YYYY-MM-DD, the index can be created as follows:\n",
    "#data[\"time_idx\"] = (data[\"date\"] - data[\"date\"].min()).dt.days, \n",
    "#but the nonbusiness days are not considered in this case, so the resulting index will not be continuous\n",
    "\n",
    "# Create the 'values' column with values representing a sine wave\n",
    "time_points = np.linspace(0, 2, 100)\n",
    "values = np.sin(time_points)\n",
    "\n",
    "# Create the 'group_ids' column with a constant value of 66\n",
    "#group1 = np.full(50, 11)\n",
    "#group2 = np.full(30, 22)\n",
    "#group3 = np.full(20, 33)\n",
    "\n",
    "#group_ids = np.concatenate((group1, group2, group3), axis = 0)\n",
    "\n",
    "# Combine the columns into a dictionary\n",
    "data = {'time_idx': time_idx, 'vals': values, 'group_ids': 66}\n",
    "\n",
    "# Create the DataFrame\n",
    "df = pd.DataFrame(data)\n",
    "\n",
    "# Print the DataFrame\n",
    "print(df.head(10))\n",
    "print(df.shape)\n",
    "print(df.dtypes)"
   ]
  },
  {
   "cell_type": "code",
   "execution_count": 3,
   "id": "5a4be66e",
   "metadata": {},
   "outputs": [
    {
     "name": "stdout",
     "output_type": "stream",
     "text": [
      "\n",
      "train_df shape: (50, 3)\n",
      "val_df shape: (30, 3)\n",
      "test_df shape: (20, 3)\n",
      "\n"
     ]
    }
   ],
   "source": [
    "#data slicing\n",
    "training_cutoff = 50\n",
    "train_df = df[lambda x: x.time_idx < training_cutoff]\n",
    "val_df = df[lambda x: (x.time_idx >= training_cutoff) & (x.time_idx < 80)]\n",
    "test_df = df[lambda x: x.time_idx >= 80]\n",
    "\n",
    "print(f\"\"\"\n",
    "train_df shape: {train_df.shape}\n",
    "val_df shape: {val_df.shape}\n",
    "test_df shape: {test_df.shape}\n",
    "\"\"\")"
   ]
  },
  {
   "cell_type": "code",
   "execution_count": 4,
   "id": "44fba0ab",
   "metadata": {},
   "outputs": [
    {
     "name": "stdout",
     "output_type": "stream",
     "text": [
      "check any NaN in the data:\n",
      "        train_df: False\n",
      "        val_df: False\n",
      "        test_df: False\n",
      "        \n"
     ]
    }
   ],
   "source": [
    "print(f\"\"\"check any NaN in the data:\n",
    "        train_df: {train_df.isna().any().any()}\n",
    "        val_df: {val_df.isna().any().any()}\n",
    "        test_df: {test_df.isna().any().any()}\n",
    "        \"\"\")"
   ]
  },
  {
   "cell_type": "code",
   "execution_count": 5,
   "id": "2300f2d2",
   "metadata": {},
   "outputs": [
    {
     "name": "stdout",
     "output_type": "stream",
     "text": [
      "any inf in data:\n",
      "        train_df: False\n",
      "        val_df: False\n",
      "        test_df: False\n",
      "        \n"
     ]
    }
   ],
   "source": [
    "print(f\"\"\"any inf in data:\n",
    "        train_df: {train_df.isin([-np.inf, np.inf]).any().any()}\n",
    "        val_df: {val_df.isin([-np.inf, np.inf]).any().any()}\n",
    "        test_df: {test_df.isin([-np.inf, np.inf]).any().any()}\n",
    "        \"\"\")"
   ]
  },
  {
   "cell_type": "code",
   "execution_count": 6,
   "id": "02076803",
   "metadata": {},
   "outputs": [],
   "source": [
    "# Create the TimeSeriesDataSet\n",
    "train_dataset = TimeSeriesDataSet(\n",
    "    train_df,\n",
    "    group_ids=[\"group_ids\"],\n",
    "    target=\"vals\",\n",
    "    time_idx=\"time_idx\",\n",
    "    max_encoder_length = 5,\n",
    "    max_prediction_length = 2,\n",
    "    time_varying_unknown_reals=[\"vals\"],\n",
    "    target_normalizer=EncoderNormalizer(transformation=\"softplus\")\n",
    ")"
   ]
  },
  {
   "cell_type": "code",
   "execution_count": 7,
   "id": "a72b7a06",
   "metadata": {},
   "outputs": [],
   "source": [
    "val_dataset = TimeSeriesDataSet.from_dataset(\n",
    "    train_dataset,\n",
    "    val_df #keep the predict=False as default is to create a sliding window set over all the data\n",
    ")\n",
    "test_dataset = TimeSeriesDataSet.from_dataset(\n",
    "    train_dataset,\n",
    "    test_df\n",
    ")"
   ]
  },
  {
   "cell_type": "code",
   "execution_count": 8,
   "id": "efc83835",
   "metadata": {},
   "outputs": [],
   "source": [
    "train_dataloader = train_dataset.to_dataloader(\n",
    "    train=False, #keep the \"train=False\" is to sliding through the whole dataset\n",
    "    batch_size=100 #make the \"batch size\" >> than the dataset size is to align with the sliding window effect\n",
    ")\n",
    "val_dataloader = val_dataset.to_dataloader(\n",
    "    train=False,\n",
    "    batch_size=100\n",
    ")\n",
    "test_dataloader = test_dataset.to_dataloader(\n",
    "    train=False,\n",
    "    batch_size=100\n",
    ")"
   ]
  },
  {
   "cell_type": "code",
   "execution_count": 9,
   "id": "678b8f66",
   "metadata": {},
   "outputs": [
    {
     "name": "stderr",
     "output_type": "stream",
     "text": [
      "Seed set to 666\n",
      "Using default `ModelCheckpoint`. Consider installing `litmodels` package to enable `LitModelCheckpoint` for automatic upload to the Lightning model registry.\n",
      "GPU available: True (cuda), used: True\n",
      "TPU available: False, using: 0 TPU cores\n",
      "HPU available: False, using: 0 HPUs\n"
     ]
    },
    {
     "name": "stdout",
     "output_type": "stream",
     "text": [
      "Number of parameters in network: 5.267k\n"
     ]
    }
   ],
   "source": [
    "pl.seed_everything(666)\n",
    "\n",
    "lr_tune_logger = TensorBoardLogger(save_dir = \"\", version = \"lr\")  # logging results to the current pwd\n",
    "lr_early_stop_callback = EarlyStopping(\n",
    "    monitor=\"val_loss\", min_delta=1e-4, patience=10, mode=\"min\"\n",
    ")\n",
    "\n",
    "#set up trainer for tunning\n",
    "lr_trainer = pl.Trainer(\n",
    "    accelerator = \"gpu\",\n",
    "    devices = \"auto\",\n",
    "    gradient_clip_val = 0.1,\n",
    "    #fast_dev_run=True,  # comment in for debugging, only 1 training and 1 validation batch to run\n",
    "    callbacks=[lr_early_stop_callback],\n",
    "    logger = lr_tune_logger #if the logger is not set, the default loger will be saved under default name = version_0\n",
    ")\n",
    "\n",
    "#set up tft for tunning \n",
    "tft_tuner = TemporalFusionTransformer.from_dataset(\n",
    "    train_dataset,\n",
    "    # dummy lr required for the following lr_finder initiation\n",
    "    learning_rate = 0.06,\n",
    "    hidden_size = 8,  # most important hyperparameter apart from learning rate\n",
    "    lstm_layers = 2,  # set to 2 or 3 for large datasets\n",
    "    # number of attention heads. Set to up to 4 for large datasets\n",
    "    attention_head_size = 2,\n",
    "    dropout = 0.1,  # between 0.1 and 0.3 are good values\n",
    "    loss = QuantileLoss(), \n",
    "    #quantiles = [0.02, 0.1, 0.25, 0.5, 0.75, 0.9, 0.98] as defined in `pytorch_forecasting.metrics.quantile.QuantileLoss` source code\n",
    "    reduce_on_plateau_patience = 100\n",
    ")\n",
    "print(f\"Number of parameters in network: {tft_tuner.size() / 1e3:.3f}k\")"
   ]
  },
  {
   "cell_type": "code",
   "execution_count": 10,
   "id": "7793359e",
   "metadata": {},
   "outputs": [
    {
     "name": "stderr",
     "output_type": "stream",
     "text": [
      "LOCAL_RANK: 0 - CUDA_VISIBLE_DEVICES: [0]\n",
      "Finding best initial lr: 100%|██████████| 100/100 [01:22<00:00,  1.20it/s]`Trainer.fit` stopped: `max_steps=100` reached.\n",
      "Finding best initial lr: 100%|██████████| 100/100 [01:22<00:00,  1.21it/s]\n",
      "Learning rate set to 0.012589254117941664\n",
      "Restoring states from the checkpoint path at /home/daokedao999/.local/share/jupyter/kernels/myenv/.lr_find_08f978b7-1524-48a8-8f10-d9b8884d0e93.ckpt\n",
      "Restored all states from the checkpoint at /home/daokedao999/.local/share/jupyter/kernels/myenv/.lr_find_08f978b7-1524-48a8-8f10-d9b8884d0e93.ckpt\n"
     ]
    },
    {
     "name": "stdout",
     "output_type": "stream",
     "text": [
      "suggested learning rate: 0.012589254117941664\n"
     ]
    },
    {
     "data": {
      "image/png": "[encoded data removed]",
      "text/plain": [
       "<Figure size 640x480 with 1 Axes>"
      ]
     },
     "metadata": {},
     "output_type": "display_data"
    }
   ],
   "source": [
    "# learning rate optimization\n",
    "lr_tuner = Tuner(lr_trainer).lr_find(\n",
    "    tft_tuner,\n",
    "    train_dataloaders = train_dataloader,\n",
    "    val_dataloaders = val_dataloader,\n",
    "    max_lr = 0.1,\n",
    "    min_lr = 1e-6,\n",
    ")\n",
    "\n",
    "print(f\"suggested learning rate: {lr_tuner.suggestion()}\")\n",
    "fig = lr_tuner.plot(show=True, suggest=True)\n",
    "fig.show()"
   ]
  },
  {
   "cell_type": "code",
   "execution_count": 11,
   "id": "00f75789",
   "metadata": {},
   "outputs": [
    {
     "name": "stderr",
     "output_type": "stream",
     "text": [
      "Using default `ModelCheckpoint`. Consider installing `litmodels` package to enable `LitModelCheckpoint` for automatic upload to the Lightning model registry.\n",
      "GPU available: True (cuda), used: True\n",
      "TPU available: False, using: 0 TPU cores\n",
      "HPU available: False, using: 0 HPUs\n"
     ]
    },
    {
     "name": "stdout",
     "output_type": "stream",
     "text": [
      "Number of parameters in network: 5.267k\n"
     ]
    }
   ],
   "source": [
    "#set up trainer for training\n",
    "logger = TensorBoardLogger(save_dir = \"\", version = \"train\")  # logging results to the current pwd\n",
    "early_stop_callback = EarlyStopping(\n",
    "    monitor=\"val_loss\", min_delta=1e-4, patience=10, mode=\"min\"\n",
    ")\n",
    "\n",
    "trainer = pl.Trainer(\n",
    "    accelerator = \"gpu\",\n",
    "    devices = \"auto\",\n",
    "    gradient_clip_val = 0.1,\n",
    "    #fast_dev_run=True,  # comment in for debugging, only 1 training and 1 validation batch to run\n",
    "    callbacks=[early_stop_callback],\n",
    "    logger = logger,\n",
    ")\n",
    "\n",
    "#set up tft for taining\n",
    "tft = TemporalFusionTransformer.from_dataset(\n",
    "    train_dataset,\n",
    "    # not meaningful for finding the learning rate but otherwise very important\n",
    "    learning_rate = lr_tuner.suggestion(),\n",
    "    hidden_size = 8,  # most important hyperparameter apart from learning rate\n",
    "    # number of attention heads. Set to up to 4 for large datasets\n",
    "    attention_head_size = 2,\n",
    "    lstm_layers = 2,  # set to 2 or 3 for large datasets\n",
    "    dropout = 0.1,  # between 0.1 and 0.3 are good values\n",
    "    loss = QuantileLoss(),\n",
    "    reduce_on_plateau_patience = 100\n",
    ")\n",
    "print(f\"Number of parameters in network: {tft.size() / 1e3:.3f}k\") "
   ]
  },
  {
   "cell_type": "code",
   "execution_count": 12,
   "id": "611c5baa",
   "metadata": {},
   "outputs": [
    {
     "name": "stderr",
     "output_type": "stream",
     "text": [
      "LOCAL_RANK: 0 - CUDA_VISIBLE_DEVICES: [0]\n",
      "\n",
      "   | Name                               | Type                            | Params | Mode \n",
      "------------------------------------------------------------------------------------------------\n",
      "0  | loss                               | QuantileLoss                    | 0      | train\n",
      "1  | logging_metrics                    | ModuleList                      | 0      | train\n",
      "2  | input_embeddings                   | MultiEmbedding                  | 0      | train\n",
      "3  | prescalers                         | ModuleDict                      | 16     | train\n",
      "4  | static_variable_selection          | VariableSelectionNetwork        | 0      | train\n",
      "5  | encoder_variable_selection         | VariableSelectionNetwork        | 320    | train\n",
      "6  | decoder_variable_selection         | VariableSelectionNetwork        | 0      | train\n",
      "7  | static_context_variable_selection  | GatedResidualNetwork            | 304    | train\n",
      "8  | static_context_initial_hidden_lstm | GatedResidualNetwork            | 304    | train\n",
      "9  | static_context_initial_cell_lstm   | GatedResidualNetwork            | 304    | train\n",
      "10 | static_context_enrichment          | GatedResidualNetwork            | 304    | train\n",
      "11 | lstm_encoder                       | LSTM                            | 1.2 K  | train\n",
      "12 | lstm_decoder                       | LSTM                            | 1.2 K  | train\n",
      "13 | post_lstm_gate_encoder             | GatedLinearUnit                 | 144    | train\n",
      "14 | post_lstm_add_norm_encoder         | AddNorm                         | 16     | train\n",
      "15 | static_enrichment                  | GatedResidualNetwork            | 368    | train\n",
      "16 | multihead_attn                     | InterpretableMultiHeadAttention | 212    | train\n",
      "17 | post_attn_gate_norm                | GateAddNorm                     | 160    | train\n",
      "18 | pos_wise_ff                        | GatedResidualNetwork            | 304    | train\n",
      "19 | pre_output_gate_norm               | GateAddNorm                     | 160    | train\n",
      "20 | output_layer                       | Linear                          | 63     | train\n",
      "------------------------------------------------------------------------------------------------\n",
      "5.3 K     Trainable params\n",
      "0         Non-trainable params\n",
      "5.3 K     Total params\n",
      "0.021     Total estimated model params size (MB)\n",
      "124       Modules in train mode\n",
      "0         Modules in eval mode\n"
     ]
    },
    {
     "name": "stdout",
     "output_type": "stream",
     "text": [
      "Epoch 34: 100%|██████████| 1/1 [00:01<00:00,  0.81it/s, v_num=rain, train_loss_step=0.0225, val_loss=0.0044, train_loss_epoch=0.0225] \n"
     ]
    }
   ],
   "source": [
    "# fit network\n",
    "trainer.fit(\n",
    "    tft,\n",
    "    train_dataloaders = train_dataloader,\n",
    "    val_dataloaders = val_dataloader\n",
    ")"
   ]
  },
  {
   "cell_type": "markdown",
   "id": "c5aac690",
   "metadata": {},
   "source": [
    "#open tensorboard to check the results\n",
    "tb = program.TensorBoard()\n",
    "tb.configure(argv=[None, '--logdir', 'lightning_logs', '--port', '6006'])\n",
    "print(\"TensorBoard running at http://localhost:6006/\")\n",
    "tb.main()"
   ]
  },
  {
   "cell_type": "code",
   "execution_count": 13,
   "id": "68297b81",
   "metadata": {},
   "outputs": [],
   "source": [
    "#load the best model according to the validation loss from training log\n",
    "best_model_path = trainer.checkpoint_callback.best_model_path\n",
    "best_tft = TemporalFusionTransformer.load_from_checkpoint(best_model_path)"
   ]
  },
  {
   "cell_type": "code",
   "execution_count": 14,
   "id": "cec186c0",
   "metadata": {},
   "outputs": [
    {
     "name": "stderr",
     "output_type": "stream",
     "text": [
      "LOCAL_RANK: 0 - CUDA_VISIBLE_DEVICES: [0]\n"
     ]
    },
    {
     "name": "stdout",
     "output_type": "stream",
     "text": [
      "Validation DataLoader 0: 100%|██████████| 1/1 [00:00<00:00,  3.82it/s]\n"
     ]
    },
    {
     "data": {
      "text/html": [
       "<pre style=\"white-space:pre;overflow-x:auto;line-height:normal;font-family:Menlo,'DejaVu Sans Mono',consolas,'Courier New',monospace\">┏━━━━━━━━━━━━━━━━━━━━━━━━━━━┳━━━━━━━━━━━━━━━━━━━━━━━━━━━┓\n",
       "┃<span style=\"font-weight: bold\">      Validate metric      </span>┃<span style=\"font-weight: bold\">       DataLoader 0        </span>┃\n",
       "┡━━━━━━━━━━━━━━━━━━━━━━━━━━━╇━━━━━━━━━━━━━━━━━━━━━━━━━━━┩\n",
       "│<span style=\"color: #008080; text-decoration-color: #008080\">          val_MAE          </span>│<span style=\"color: #800080; text-decoration-color: #800080\">     0.008423394523561     </span>│\n",
       "│<span style=\"color: #008080; text-decoration-color: #008080\">         val_MAPE          </span>│<span style=\"color: #800080; text-decoration-color: #800080\">   0.008875485509634018    </span>│\n",
       "│<span style=\"color: #008080; text-decoration-color: #008080\">         val_RMSE          </span>│<span style=\"color: #800080; text-decoration-color: #800080\">   0.010106625035405159    </span>│\n",
       "│<span style=\"color: #008080; text-decoration-color: #008080\">         val_SMAPE         </span>│<span style=\"color: #800080; text-decoration-color: #800080\">   0.008933818899095058    </span>│\n",
       "│<span style=\"color: #008080; text-decoration-color: #008080\">         val_loss          </span>│<span style=\"color: #800080; text-decoration-color: #800080\">    0.00440498860552907    </span>│\n",
       "└───────────────────────────┴───────────────────────────┘\n",
       "</pre>\n"
      ],
      "text/plain": [
       "┏━━━━━━━━━━━━━━━━━━━━━━━━━━━┳━━━━━━━━━━━━━━━━━━━━━━━━━━━┓\n",
       "┃\u001b[1m \u001b[0m\u001b[1m     Validate metric     \u001b[0m\u001b[1m \u001b[0m┃\u001b[1m \u001b[0m\u001b[1m      DataLoader 0       \u001b[0m\u001b[1m \u001b[0m┃\n",
       "┡━━━━━━━━━━━━━━━━━━━━━━━━━━━╇━━━━━━━━━━━━━━━━━━━━━━━━━━━┩\n",
       "│\u001b[36m \u001b[0m\u001b[36m         val_MAE         \u001b[0m\u001b[36m \u001b[0m│\u001b[35m \u001b[0m\u001b[35m    0.008423394523561    \u001b[0m\u001b[35m \u001b[0m│\n",
       "│\u001b[36m \u001b[0m\u001b[36m        val_MAPE         \u001b[0m\u001b[36m \u001b[0m│\u001b[35m \u001b[0m\u001b[35m  0.008875485509634018   \u001b[0m\u001b[35m \u001b[0m│\n",
       "│\u001b[36m \u001b[0m\u001b[36m        val_RMSE         \u001b[0m\u001b[36m \u001b[0m│\u001b[35m \u001b[0m\u001b[35m  0.010106625035405159   \u001b[0m\u001b[35m \u001b[0m│\n",
       "│\u001b[36m \u001b[0m\u001b[36m        val_SMAPE        \u001b[0m\u001b[36m \u001b[0m│\u001b[35m \u001b[0m\u001b[35m  0.008933818899095058   \u001b[0m\u001b[35m \u001b[0m│\n",
       "│\u001b[36m \u001b[0m\u001b[36m        val_loss         \u001b[0m\u001b[36m \u001b[0m│\u001b[35m \u001b[0m\u001b[35m   0.00440498860552907   \u001b[0m\u001b[35m \u001b[0m│\n",
       "└───────────────────────────┴───────────────────────────┘\n"
      ]
     },
     "metadata": {},
     "output_type": "display_data"
    },
    {
     "data": {
      "text/plain": [
       "[{'val_loss': 0.00440498860552907,\n",
       "  'val_SMAPE': 0.008933818899095058,\n",
       "  'val_MAE': 0.008423394523561,\n",
       "  'val_RMSE': 0.010106625035405159,\n",
       "  'val_MAPE': 0.008875485509634018}]"
      ]
     },
     "execution_count": 14,
     "metadata": {},
     "output_type": "execute_result"
    }
   ],
   "source": [
    "#check the metrics on val_dataset\n",
    "trainer.validate(best_tft, dataloaders=val_dataloader)#, ckpt_path=best_model_path)\n",
    "#the \"ckpt_path\" argument is not necessary, but it is good practice to load the best model"
   ]
  },
  {
   "cell_type": "code",
   "execution_count": null,
   "id": "934813e6",
   "metadata": {},
   "outputs": [
    {
     "name": "stderr",
     "output_type": "stream",
     "text": [
      "LOCAL_RANK: 0 - CUDA_VISIBLE_DEVICES: [0]\n"
     ]
    },
    {
     "name": "stdout",
     "output_type": "stream",
     "text": [
      "Testing DataLoader 0: 100%|██████████| 1/1 [00:00<00:00,  3.19it/s]\n"
     ]
    },
    {
     "data": {
      "text/html": [
       "<pre style=\"white-space:pre;overflow-x:auto;line-height:normal;font-family:Menlo,'DejaVu Sans Mono',consolas,'Courier New',monospace\">┏━━━━━━━━━━━━━━━━━━━━━━━━━━━┳━━━━━━━━━━━━━━━━━━━━━━━━━━━┓\n",
       "┃<span style=\"font-weight: bold\">        Test metric        </span>┃<span style=\"font-weight: bold\">       DataLoader 0        </span>┃\n",
       "┡━━━━━━━━━━━━━━━━━━━━━━━━━━━╇━━━━━━━━━━━━━━━━━━━━━━━━━━━┩\n",
       "│<span style=\"color: #008080; text-decoration-color: #008080\">         test_MAE          </span>│<span style=\"color: #800080; text-decoration-color: #800080\">   0.024220434948801994    </span>│\n",
       "│<span style=\"color: #008080; text-decoration-color: #008080\">         test_MAPE         </span>│<span style=\"color: #800080; text-decoration-color: #800080\">   0.025577636435627937    </span>│\n",
       "│<span style=\"color: #008080; text-decoration-color: #008080\">         test_RMSE         </span>│<span style=\"color: #800080; text-decoration-color: #800080\">    0.02574038691818714    </span>│\n",
       "│<span style=\"color: #008080; text-decoration-color: #008080\">        test_SMAPE         </span>│<span style=\"color: #800080; text-decoration-color: #800080\">   0.025208670645952225    </span>│\n",
       "│<span style=\"color: #008080; text-decoration-color: #008080\">         test_loss         </span>│<span style=\"color: #800080; text-decoration-color: #800080\">   0.021505530923604965    </span>│\n",
       "└───────────────────────────┴───────────────────────────┘\n",
       "</pre>\n"
      ],
      "text/plain": [
       "┏━━━━━━━━━━━━━━━━━━━━━━━━━━━┳━━━━━━━━━━━━━━━━━━━━━━━━━━━┓\n",
       "┃\u001b[1m \u001b[0m\u001b[1m       Test metric       \u001b[0m\u001b[1m \u001b[0m┃\u001b[1m \u001b[0m\u001b[1m      DataLoader 0       \u001b[0m\u001b[1m \u001b[0m┃\n",
       "┡━━━━━━━━━━━━━━━━━━━━━━━━━━━╇━━━━━━━━━━━━━━━━━━━━━━━━━━━┩\n",
       "│\u001b[36m \u001b[0m\u001b[36m        test_MAE         \u001b[0m\u001b[36m \u001b[0m│\u001b[35m \u001b[0m\u001b[35m  0.024220434948801994   \u001b[0m\u001b[35m \u001b[0m│\n",
       "│\u001b[36m \u001b[0m\u001b[36m        test_MAPE        \u001b[0m\u001b[36m \u001b[0m│\u001b[35m \u001b[0m\u001b[35m  0.025577636435627937   \u001b[0m\u001b[35m \u001b[0m│\n",
       "│\u001b[36m \u001b[0m\u001b[36m        test_RMSE        \u001b[0m\u001b[36m \u001b[0m│\u001b[35m \u001b[0m\u001b[35m   0.02574038691818714   \u001b[0m\u001b[35m \u001b[0m│\n",
       "│\u001b[36m \u001b[0m\u001b[36m       test_SMAPE        \u001b[0m\u001b[36m \u001b[0m│\u001b[35m \u001b[0m\u001b[35m  0.025208670645952225   \u001b[0m\u001b[35m \u001b[0m│\n",
       "│\u001b[36m \u001b[0m\u001b[36m        test_loss        \u001b[0m\u001b[36m \u001b[0m│\u001b[35m \u001b[0m\u001b[35m  0.021505530923604965   \u001b[0m\u001b[35m \u001b[0m│\n",
       "└───────────────────────────┴───────────────────────────┘\n"
      ]
     },
     "metadata": {},
     "output_type": "display_data"
    },
    {
     "data": {
      "text/plain": [
       "[{'test_loss': 0.021505530923604965,\n",
       "  'test_SMAPE': 0.025208670645952225,\n",
       "  'test_MAE': 0.024220434948801994,\n",
       "  'test_RMSE': 0.02574038691818714,\n",
       "  'test_MAPE': 0.025577636435627937}]"
      ]
     },
     "execution_count": 15,
     "metadata": {},
     "output_type": "execute_result"
    }
   ],
   "source": [
    "#evaluation on test set\n",
    "trainer.test(best_tft, dataloaders=test_dataloader)#, ckpt_path=best_model_path)"
   ]
  },
  {
   "cell_type": "code",
   "execution_count": null,
   "id": "00522c9e",
   "metadata": {},
   "outputs": [
    {
     "name": "stderr",
     "output_type": "stream",
     "text": [
      "Using default `ModelCheckpoint`. Consider installing `litmodels` package to enable `LitModelCheckpoint` for automatic upload to the Lightning model registry.\n",
      "GPU available: True (cuda), used: True\n",
      "TPU available: False, using: 0 TPU cores\n",
      "HPU available: False, using: 0 HPUs\n",
      "LOCAL_RANK: 0 - CUDA_VISIBLE_DEVICES: [0]\n"
     ]
    }
   ],
   "source": [
    "test_pred_x_raw = best_tft.predict(test_dataloader, mode=\"raw\", return_x=True, return_y=True) #incldue the attension weights"
   ]
  },
  {
   "cell_type": "code",
   "execution_count": 17,
   "id": "2b21dd57",
   "metadata": {},
   "outputs": [
    {
     "data": {
      "text/plain": [
       "('output', 'x', 'index', 'decoder_lengths', 'y')"
      ]
     },
     "execution_count": 17,
     "metadata": {},
     "output_type": "execute_result"
    }
   ],
   "source": [
    "test_pred_x_raw.keys() #the outputs are quantile predictions comparing the single prediction of \"test_pred\""
   ]
  },
  {
   "cell_type": "code",
   "execution_count": 24,
   "id": "1c3563d1",
   "metadata": {},
   "outputs": [
    {
     "data": {
      "text/plain": [
       "('prediction',\n",
       " 'encoder_attention',\n",
       " 'decoder_attention',\n",
       " 'static_variables',\n",
       " 'encoder_variables',\n",
       " 'decoder_variables',\n",
       " 'decoder_lengths',\n",
       " 'encoder_lengths')"
      ]
     },
     "execution_count": 24,
     "metadata": {},
     "output_type": "execute_result"
    }
   ],
   "source": [
    "test_pred_x_raw.output.keys()"
   ]
  },
  {
   "cell_type": "code",
   "execution_count": 19,
   "id": "5707ca67",
   "metadata": {},
   "outputs": [
    {
     "data": {
      "text/plain": [
       "torch.Size([14, 2, 7])"
      ]
     },
     "execution_count": 19,
     "metadata": {},
     "output_type": "execute_result"
    }
   ],
   "source": [
    "test_pred_x_raw.output.prediction.shape #the quantile predictions, the median = test_pred.output\n",
    "#the \"output\" is a dictionary, the \"prediction\" is a tensor with the shape of (batch_size, prediction_length, num_quantiles)\n",
    "#the quantiles = [0.02, 0.1, 0.25, 0.5, 0.75, 0.9, 0.98] as defined in `pytorch_forecasting.metrics.quantile.QuantileLoss` source code"
   ]
  },
  {
   "cell_type": "code",
   "execution_count": 102,
   "id": "827304a0",
   "metadata": {},
   "outputs": [
    {
     "name": "stderr",
     "output_type": "stream",
     "text": [
      "Using default `ModelCheckpoint`. Consider installing `litmodels` package to enable `LitModelCheckpoint` for automatic upload to the Lightning model registry.\n",
      "GPU available: True (cuda), used: True\n",
      "TPU available: False, using: 0 TPU cores\n",
      "HPU available: False, using: 0 HPUs\n",
      "LOCAL_RANK: 0 - CUDA_VISIBLE_DEVICES: [0]\n"
     ]
    },
    {
     "data": {
      "text/plain": [
       "tensor(0.0256, device='cuda:0')"
      ]
     },
     "execution_count": 102,
     "metadata": {},
     "output_type": "execute_result"
    }
   ],
   "source": [
    "#MAPE\n",
    "test_pred = best_tft.predict(test_dataloader, return_y=True) \n",
    "#the prediction tensor are in the \"output\" by the shape of [batch_size, prediction_length],\n",
    "#the predictions are the median of the quantile predictions\n",
    "\n",
    "MAPE()(test_pred.output, test_pred.y[0]) #same for other metrics, and results are same from the \"trainer.test/validate\""
   ]
  },
  {
   "cell_type": "code",
   "execution_count": null,
   "id": "a344d22e",
   "metadata": {},
   "outputs": [
    {
     "name": "stdout",
     "output_type": "stream",
     "text": [
      "YES, the output is equal the median prediction\n"
     ]
    }
   ],
   "source": [
    "#to prove the predictions are the median of the quantile predictions form \"predict(mode=None)\"\n",
    "results = True\n",
    "for b in range(test_pred.output.shape[0]):\n",
    "    results_check = (test_pred_x_raw.output.prediction[b, :, 3] == test_pred.output[b,...]).all()\n",
    "if not results_check:\n",
    "    results = False\n",
    "    print(f\"NO, the output is not equal to the median prediction\")\n",
    "else:\n",
    "    print(f\"YES, the output is equal the median prediction\")"
   ]
  },
  {
   "cell_type": "code",
   "execution_count": null,
   "id": "f5722b0f",
   "metadata": {},
   "outputs": [
    {
     "name": "stdout",
     "output_type": "stream",
     "text": [
      "torch.Size([14, 2])\n"
     ]
    },
    {
     "data": {
      "text/plain": [
       "tensor(0.0256, device='cuda:0')"
      ]
     },
     "execution_count": 82,
     "metadata": {},
     "output_type": "execute_result"
    }
   ],
   "source": [
    "#help to scan the outliers of a metric\n",
    "apes = torch.abs((test_pred.output - test_pred.y[0]) / test_pred.y[0])\n",
    "print(apes.shape)\n",
    "apes.mean()"
   ]
  },
  {
   "cell_type": "markdown",
   "id": "f8c33b54",
   "metadata": {},
   "source": [
    "The above MAPE by hands result is expect to be same as function of `MAPE()`, but if the hand craft results a `inf`, then it may be caused by a `0` in the true value, and a zero corrector of `1e-8` is added by the `MAPE()` function in its source code. "
   ]
  },
  {
   "cell_type": "code",
   "execution_count": 81,
   "id": "ea25665f",
   "metadata": {},
   "outputs": [
    {
     "data": {
      "text/plain": [
       "tensor(0, device='cuda:0')"
      ]
     },
     "execution_count": 81,
     "metadata": {},
     "output_type": "execute_result"
    }
   ],
   "source": [
    "_apes = torch.abs((test_pred_x_raw.output.prediction[:,:,3] - test_pred_x_raw.y[0]) / test_pred_x_raw.y[0])\n",
    "sum(sum(_apes != apes))"
   ]
  },
  {
   "cell_type": "code",
   "execution_count": 92,
   "id": "6ad25ad8",
   "metadata": {},
   "outputs": [],
   "source": [
    "#locate the outliers in the result tensor\n",
    "def find_outlier_row_indices(tensor, threshold=2.0, method='zscore'):\n",
    "    \"\"\"\n",
    "    Identifies row indices containing outliers in a 2D PyTorch tensor.\n",
    "\n",
    "    Args:\n",
    "        tensor: A 2D PyTorch tensor.\n",
    "        threshold: The outlier detection threshold.\n",
    "        method: Method for outlier detection ('zscore' or 'iqr'). Defaults to 'zscore'.\n",
    "\n",
    "    Returns:\n",
    "        A tensor containing the unique row indices of the outliers.\n",
    "    \"\"\"\n",
    "    if method == 'zscore':\n",
    "        mean = torch.mean(tensor)\n",
    "        std = torch.std(tensor)\n",
    "        zscores = torch.abs((tensor - mean) / std)\n",
    "        outlier_mask = zscores > threshold\n",
    "    elif method == 'iqr':\n",
    "        q1 = torch.quantile(tensor.flatten(), 0.25)\n",
    "        q3 = torch.quantile(tensor.flatten(), 0.75)\n",
    "        iqr = q3 - q1\n",
    "        lower_bound = q1 - threshold * iqr\n",
    "        upper_bound = q3 + threshold * iqr\n",
    "        outlier_mask = (tensor < lower_bound) | (tensor > upper_bound)\n",
    "    else:\n",
    "        raise ValueError(\"Invalid method. Choose 'zscore' or 'iqr'.\")\n",
    "\n",
    "    outlier_indices = torch.nonzero(outlier_mask, as_tuple=False)\n",
    "\n",
    "    if outlier_indices.numel() == 0:  # Check if there are any outliers\n",
    "        return torch.empty(0, dtype=torch.long) # Return an empty tensor of Long type\n",
    "\n",
    "    outlier_rows = outlier_indices[:, 0]  # Extract row indices\n",
    "    unique_outlier_rows = torch.unique(outlier_rows)  # Get unique row indices\n",
    "\n",
    "    return unique_outlier_rows\n"
   ]
  },
  {
   "cell_type": "code",
   "execution_count": 99,
   "id": "63138a4f",
   "metadata": {},
   "outputs": [
    {
     "data": {
      "text/plain": [
       "tensor([4])"
      ]
     },
     "execution_count": 99,
     "metadata": {},
     "output_type": "execute_result"
    }
   ],
   "source": [
    "outlier_sample = torch.tensor([[1,2],[3,4],[5,6],[7,8],[900,10]]).float()\n",
    "find_outlier_row_indices(outlier_sample, threshold=2.0, method='iqr')"
   ]
  },
  {
   "cell_type": "code",
   "execution_count": 17,
   "id": "ed8a86db",
   "metadata": {},
   "outputs": [],
   "source": [
    "stacked_true = torch.stack([test_pred_x_raw.x[\"decoder_time_idx\"], test_pred_x_raw.y[0]], dim=2)\n",
    "stacked_true = stacked_true.reshape(-1, 2)\n",
    "stacked_true = stacked_true.unique(dim=0)\n",
    "print(stacked_true.shape)"
   ]
  },
  {
   "cell_type": "code",
   "execution_count": 18,
   "id": "30fc6fff",
   "metadata": {},
   "outputs": [],
   "source": [
    "stack_check=stacked_true[:,1].reshape(-1,1).cpu() #the model is on \"GPU\" needs to be move to \"CPU\""
   ]
  },
  {
   "cell_type": "code",
   "execution_count": 19,
   "id": "ad7dc91a",
   "metadata": {},
   "outputs": [],
   "source": [
    "test_val=torch.tensor(test_df[test_df[\"time_idx\"] >= 85][\"vals\"].values).unsqueeze(1)\n",
    "test_val.shape"
   ]
  },
  {
   "cell_type": "code",
   "execution_count": 60,
   "id": "24054772",
   "metadata": {},
   "outputs": [],
   "source": [
    "test_plot=torch.tensor(test_df[test_df[\"time_idx\"] >= 85][\"vals\"].values)\n",
    "test_plot.shape"
   ]
  },
  {
   "cell_type": "code",
   "execution_count": 20,
   "id": "bc77d03b",
   "metadata": {},
   "outputs": [],
   "source": [
    "sum(test_val-stack_check) #the difference is caused by the \"TimeSeriesDataSet\"."
   ]
  },
  {
   "cell_type": "code",
   "execution_count": 21,
   "id": "24be9346",
   "metadata": {},
   "outputs": [],
   "source": [
    "sum(test_val-test_pred_x_raw.y[0].reshape(-1, 1).unique(dim=0).cpu())"
   ]
  },
  {
   "cell_type": "code",
   "execution_count": 53,
   "id": "6b0c3f8a",
   "metadata": {},
   "outputs": [],
   "source": [
    "#results plotting function\n",
    "def plot_single_timeseries_quantile_predictions(tensor1_preds, tensor2_actuals,\n",
    "                                                quantile_levels=None, quantile_labels=None,\n",
    "                                                title=\"Time Series Quantile Prediction\"):\n",
    "    \"\"\"\n",
    "    Plots quantile predictions (tensor1_preds) against actual values (tensor2_actuals)\n",
    "    for a single time series.\n",
    "\n",
    "    Args:\n",
    "        tensor1_preds (np.ndarray): Quantile predictions. Shape: [time, features].\n",
    "                                    Features are assumed to be sorted quantiles.\n",
    "                                    Example for 7 features: [q0.02, q0.1, q0.25, q0.5, q0.75, q0.9, q0.98]\n",
    "        tensor2_actuals (np.ndarray): Actual values. Shape: [time].\n",
    "        quantile_levels (list of float, optional): The actual quantile levels corresponding\n",
    "                                                   to the features in tensor1_preds.\n",
    "                                                   Used for generating accurate default labels.\n",
    "        quantile_labels (list of str, optional): Labels for the prediction intervals.\n",
    "                                                 If None, default labels will be generated.\n",
    "                                                 Order should correspond to outermost to innermost interval.\n",
    "        title (str, optional): The title for the plot.\n",
    "    \"\"\"\n",
    "    if tensor1_preds.ndim != 2:\n",
    "        raise ValueError(\"tensor1_preds (predictions) must be 2D [time, features].\")\n",
    "    if tensor2_actuals.ndim != 1:\n",
    "        raise ValueError(\"tensor2_actuals (actuals) must be 1D [time].\")\n",
    "    if tensor1_preds.shape[0] != tensor2_actuals.shape[0]:\n",
    "        raise ValueError(\"Time dimension of tensor1_preds and tensor2_actuals must match.\")\n",
    "\n",
    "    num_time_steps = tensor1_preds.shape[0]\n",
    "    num_features = tensor1_preds.shape[1]\n",
    "\n",
    "    if num_features % 2 == 0:\n",
    "        raise ValueError(\"Number of features in tensor1_preds must be odd to have a central median.\")\n",
    "    \n",
    "    median_index = num_features // 2\n",
    "\n",
    "    # Define quantile labels if not provided\n",
    "    if quantile_labels is None:\n",
    "        if num_features == 7 and quantile_levels and len(quantile_levels) == 7:\n",
    "            # Generate labels based on provided quantile_levels\n",
    "            # Assumes pairs are (0,6), (1,5), (2,4) for features\n",
    "            pi1_lower, pi1_upper = quantile_levels[0], quantile_levels[6]\n",
    "            pi2_lower, pi2_upper = quantile_levels[1], quantile_levels[5]\n",
    "            pi3_lower, pi3_upper = quantile_levels[2], quantile_levels[4]\n",
    "            \n",
    "            quantile_labels = [\n",
    "                f\"{(pi1_upper - pi1_lower) * 100:.0f}% PI ({pi1_lower:.2f}-{pi1_upper:.2f})\", # Outermost\n",
    "                f\"{(pi2_upper - pi2_lower) * 100:.0f}% PI ({pi2_lower:.2f}-{pi2_upper:.2f})\", # Middle\n",
    "                f\"{(pi3_upper - pi3_lower) * 100:.0f}% PI ({pi3_lower:.2f}-{pi3_upper:.2f})\"  # Innermost\n",
    "            ]\n",
    "        elif num_features == 7: # Default for 7 features if specific levels not given\n",
    "             quantile_labels = [\"96% PI (e.g., 0.02-0.98)\", \"80% PI (e.g., 0.1-0.9)\", \"50% PI (e.g., 0.25-0.75)\"]\n",
    "        else:\n",
    "            # Fallback for a different number of features\n",
    "            quantile_labels = [f\"Interval {i+1}\" for i in range(num_features // 2)]\n",
    "    \n",
    "    if len(quantile_labels) != num_features // 2:\n",
    "        raise ValueError(f\"Expected {num_features // 2} quantile labels, but got {len(quantile_labels)}.\")\n",
    "\n",
    "    # Set a nice seaborn style\n",
    "    sns.set_theme(style=\"whitegrid\")\n",
    "\n",
    "    fig, ax = plt.subplots(figsize=(12, 6)) # Single plot\n",
    "\n",
    "    time_indices = np.arange(num_time_steps)\n",
    "\n",
    "    # Plot actual values\n",
    "    ax.plot(time_indices, tensor2_actuals, label=\"Actual\", color=\"black\", marker='o', linestyle='-', zorder=num_features//2 + 2)\n",
    "\n",
    "    # Plot median prediction (middle feature)\n",
    "    median_prediction = tensor1_preds[:, median_index]\n",
    "    median_label_text = f\"Median ({quantile_levels[median_index]:.2f}Q)\" if quantile_levels and median_index < len(quantile_levels) else \"Median Prediction\"\n",
    "    ax.plot(time_indices, median_prediction, label=median_label_text, color=\"blue\", marker='x', linestyle='--', zorder=num_features//2 + 1)\n",
    "\n",
    "    # Plot prediction intervals\n",
    "    # Intervals are formed by pairing features from outside in\n",
    "    # e.g., for 7 features: (feature 0, feature 6), (feature 1, feature 5), (feature 2, feature 4)\n",
    "    # Colors for intervals - from lighter to darker for better visual hierarchy\n",
    "    # Using a list of distinct, visually pleasing colors for intervals\n",
    "    interval_palette = sns.color_palette(\"Blues\", n_colors=num_features // 2 + 2) # Get a few shades\n",
    "    \n",
    "    # The quantile_labels should be ordered from outermost to innermost.\n",
    "    # The loop for j goes from 0 (outermost interval) to (num_features // 2 - 1) (innermost interval).\n",
    "    for j in range(num_features // 2):\n",
    "        lower_quantile_idx = j\n",
    "        upper_quantile_idx = num_features - 1 - j\n",
    "        \n",
    "        # Assign colors such that the widest interval is lightest, narrowest is darkest within the theme\n",
    "        # So, interval_colors[j] means the j-th interval (0 = outermost) gets a progressively darker shade.\n",
    "        # The label quantile_labels[j] should correspond to this j-th interval.\n",
    "        ax.fill_between(time_indices, tensor1_preds[:, lower_quantile_idx], tensor1_preds[:, upper_quantile_idx],\n",
    "                        color=interval_palette[j], # interval_palette[0] is light, interval_palette[num_features//2 -1] is darker\n",
    "                        alpha=0.3 + (j * 0.1), # Alpha can also increase for inner bands if desired\n",
    "                        label=quantile_labels[j], \n",
    "                        zorder=j+1)\n",
    "\n",
    "\n",
    "    ax.set_title(title)\n",
    "    ax.set_xlabel(\"Time Step\")\n",
    "    ax.set_ylabel(\"Value\")\n",
    "\n",
    "    if num_time_steps <= 20: # Show markers if not too many time steps\n",
    "        ax.set_xticks(time_indices)\n",
    "    else: # Otherwise, let matplotlib decide tick locations for readability\n",
    "        pass\n",
    "\n",
    "    # Add legend\n",
    "    handles, labels = ax.get_legend_handles_labels()\n",
    "    # Custom sort order for legend: Actual, Median, then PIs (already ordered by plotting)\n",
    "    # If specific order is needed and not achieved by plotting order:\n",
    "    # order_preference = [\"Actual\", median_label_text] + quantile_labels\n",
    "    # sorted_legend = sorted(zip(handles, labels), key=lambda x: order_preference.index(x[1]) if x[1] in order_preference else float('inf'))\n",
    "    # handles = [h for h, l in sorted_legend]\n",
    "    # labels = [l for h, l in sorted_legend]\n",
    "    ax.legend(handles, labels, loc='upper left', bbox_to_anchor=(1.02, 1))\n",
    "\n",
    "\n",
    "    plt.tight_layout(rect=[0, 0, 0.85, 1]) # Adjust layout to make space for the legend outside\n",
    "    plt.show()"
   ]
  },
  {
   "cell_type": "code",
   "execution_count": 23,
   "id": "74104520",
   "metadata": {},
   "outputs": [],
   "source": [
    "pred=test_pred_x_raw.output.prediction.reshape(-1, 7)\n",
    "pred.shape"
   ]
  },
  {
   "cell_type": "code",
   "execution_count": 24,
   "id": "078df0e3",
   "metadata": {},
   "outputs": [],
   "source": [
    "#check the reshape did not break the order of data\n",
    "diff=torch.empty(size=(14,1))\n",
    "for i in range(13):\n",
    "    diff[i]=sum(sum(pred[0+i*2:2+i*2,]-test_pred_x_raw.output.prediction[i,...])).cpu()\n",
    "sum(diff)"
   ]
  },
  {
   "cell_type": "code",
   "execution_count": 37,
   "id": "e007a9e5",
   "metadata": {},
   "outputs": [],
   "source": [
    "time_idx=test_pred_x_raw.x[\"decoder_time_idx\"].reshape(-1, 1)"
   ]
  },
  {
   "cell_type": "code",
   "execution_count": null,
   "id": "5345126b",
   "metadata": {},
   "outputs": [],
   "source": [
    "pred=torch.cat((time_idx, pred), dim=1) #add the time index of the predictions as col=0\n",
    "pred.shape"
   ]
  },
  {
   "cell_type": "code",
   "execution_count": 49,
   "id": "5af832ad",
   "metadata": {},
   "outputs": [],
   "source": [
    "#create a function to get the avg of the duplicate rows\n",
    "def average_duplicate_rows(tensor, column_index):\n",
    "    \"\"\"\n",
    "    Calculates the average of other columns for duplicate rows based on values in a specified column.\n",
    "\n",
    "    Args:\n",
    "        tensor: A 2D PyTorch tensor.\n",
    "        column_index: The index of the column used for identifying duplicate rows.\n",
    "\n",
    "    Returns:\n",
    "        A new tensor with averaged rows.\n",
    "    \"\"\"\n",
    "\n",
    "    if tensor.ndim != 2:\n",
    "      raise ValueError(\"Input tensor must be 2D.\")\n",
    "    \n",
    "    if column_index >= tensor.shape[1]:\n",
    "        raise IndexError(\"column_index out of range\")\n",
    "    \n",
    "    # Convert to NumPy array for easier manipulation\n",
    "    tensor_np = tensor.numpy()\n",
    "\n",
    "    # Get unique values in the specified column and their indices\n",
    "    unique_values, inverse_indices = torch.unique(tensor[:, column_index], return_inverse=True)\n",
    "    unique_values = unique_values.numpy()\n",
    "    inverse_indices = inverse_indices.numpy()\n",
    "\n",
    "    # Create a dictionary to store rows for each unique value\n",
    "    grouped_rows = {}\n",
    "    for i, val in enumerate(inverse_indices):\n",
    "        if val not in grouped_rows:\n",
    "          grouped_rows[val] = []\n",
    "        grouped_rows[val].append(tensor_np[i])\n",
    "\n",
    "    # Calculate the average of other columns for each group\n",
    "    averaged_rows = []\n",
    "    for _, rows in grouped_rows.items():\n",
    "        rows = torch.tensor(rows) #convert list of rows to tensor\n",
    "        averaged_row = rows.mean(dim=0)\n",
    "        averaged_rows.append(averaged_row)\n",
    "    \n",
    "    averaged_rows = torch.stack(averaged_rows)\n",
    "\n",
    "    return averaged_rows"
   ]
  },
  {
   "cell_type": "code",
   "execution_count": 51,
   "id": "15f7c1f4",
   "metadata": {},
   "outputs": [],
   "source": [
    "pred_avg = average_duplicate_rows(pred.cpu(), 0)\n",
    "pred_avg.shape"
   ]
  },
  {
   "cell_type": "code",
   "execution_count": null,
   "id": "b86f6579",
   "metadata": {},
   "outputs": [],
   "source": [
    "pred_plot=pred_avg[:, 1:] #remove the time index column\n",
    "pred_plot.shape"
   ]
  },
  {
   "cell_type": "code",
   "execution_count": 64,
   "id": "da9275cf",
   "metadata": {},
   "outputs": [],
   "source": [
    "pred_plot"
   ]
  },
  {
   "cell_type": "code",
   "execution_count": 58,
   "id": "4b5a4c41",
   "metadata": {},
   "outputs": [],
   "source": [
    "# --- Define Quantile Labels based on SPECIFIC_QUANTILE_LEVELS ---\n",
    "# These labels will be passed to the plotting function.\n",
    "SPECIFIC_QUANTILE_LEVELS= [0.02, 0.1, 0.25, 0.5, 0.75, 0.9, 0.98] # The quantile levels used in the model\n",
    "\n",
    "# The function can also generate them if quantile_levels are passed.\n",
    "# Order: Outermost, Middle, Innermost\n",
    "pi_outer_label = f\"{(SPECIFIC_QUANTILE_LEVELS[6] - SPECIFIC_QUANTILE_LEVELS[0])*100:.0f}% PI ({SPECIFIC_QUANTILE_LEVELS[0]:.2f}-{SPECIFIC_QUANTILE_LEVELS[6]:.2f})\"\n",
    "pi_mid_label = f\"{(SPECIFIC_QUANTILE_LEVELS[5] - SPECIFIC_QUANTILE_LEVELS[1])*100:.0f}% PI ({SPECIFIC_QUANTILE_LEVELS[1]:.2f}-{SPECIFIC_QUANTILE_LEVELS[5]:.2f})\"\n",
    "pi_inner_label = f\"{(SPECIFIC_QUANTILE_LEVELS[4] - SPECIFIC_QUANTILE_LEVELS[2])*100:.0f}% PI ({SPECIFIC_QUANTILE_LEVELS[2]:.2f}-{SPECIFIC_QUANTILE_LEVELS[4]:.2f})\"\n",
    "    \n",
    "# The order in custom_labels MUST match the order of plotting fill_between\n",
    "# which is from outermost to innermost (j=0 to num_features//2 - 1)\n",
    "custom_interval_labels = [pi_outer_label, pi_mid_label, pi_inner_label]"
   ]
  },
  {
   "cell_type": "code",
   "execution_count": 66,
   "id": "c8859b43",
   "metadata": {},
   "outputs": [],
   "source": [
    "# --- Plot the Tensors ---\n",
    "print(f\"Tensor1 (predictions) shape: {pred_plot.shape}\")\n",
    "print(f\"Tensor2 (actuals) shape: {test_plot.shape}\")\n",
    "print(f\"Quantile levels being plotted: {SPECIFIC_QUANTILE_LEVELS}\")\n",
    "\n",
    "plot_single_timeseries_quantile_predictions(\n",
    "    pred_plot,\n",
    "    test_plot,\n",
    "    quantile_levels=SPECIFIC_QUANTILE_LEVELS,\n",
    "    quantile_labels=custom_interval_labels, # Pass the correctly ordered labels\n",
    "    title=\"Sample Time Series Prediction with Quantiles\"\n",
    ")"
   ]
  }
 ],
 "metadata": {
  "kernelspec": {
   "display_name": "Python (myenv)",
   "language": "python",
   "name": "myenv"
  },
  "language_info": {
   "codemirror_mode": {
    "name": "ipython",
    "version": 3
   },
   "file_extension": ".py",
   "mimetype": "text/x-python",
   "name": "python",
   "nbconvert_exporter": "python",
   "pygments_lexer": "ipython3",
   "version": "3.12.9"
  }
 },
 "nbformat": 4,
 "nbformat_minor": 5
}
