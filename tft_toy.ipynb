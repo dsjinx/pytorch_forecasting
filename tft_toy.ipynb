{
 "cells": [
  {
   "cell_type": "code",
   "execution_count": 1,
   "id": "2ede437d",
   "metadata": {},
   "outputs": [
    {
     "name": "stderr",
     "output_type": "stream",
     "text": [
      "/home/daokedao999/miniconda3/lib/python3.12/site-packages/pytorch_forecasting/models/base_model.py:27: TqdmWarning: IProgress not found. Please update jupyter and ipywidgets. See https://ipywidgets.readthedocs.io/en/stable/user_install.html\n",
      "  from tqdm.autonotebook import tqdm\n"
     ]
    },
    {
     "name": "stdout",
     "output_type": "stream",
     "text": [
      "Current Working Directory: /home/daokedao999/.local/share/jupyter/kernels/myenv\n"
     ]
    }
   ],
   "source": [
    "import os\n",
    "import numpy as np\n",
    "import pandas as pd\n",
    "\n",
    "import lightning.pytorch as pl\n",
    "import torch\n",
    "\n",
    "from lightning.pytorch.tuner import Tuner\n",
    "from lightning.pytorch.callbacks import EarlyStopping, LearningRateMonitor\n",
    "from lightning.pytorch.loggers import TensorBoardLogger\n",
    "from tensorboard import program\n",
    "from pytorch_forecasting import Baseline, TemporalFusionTransformer, TimeSeriesDataSet\n",
    "from pytorch_forecasting.data import EncoderNormalizer\n",
    "from pytorch_forecasting.metrics import QuantileLoss, MAE, SMAPE #, PoissonLoss\n",
    "\n",
    "import matplotlib.pyplot as plt\n",
    "import seaborn as sns\n",
    "\n",
    "import warnings\n",
    "warnings.filterwarnings(\"ignore\")\n",
    "\n",
    "import os\n",
    "print(\"Current Working Directory:\", os.getcwd())"
   ]
  },
  {
   "cell_type": "code",
   "execution_count": 2,
   "id": "3d77e925",
   "metadata": {},
   "outputs": [
    {
     "name": "stdout",
     "output_type": "stream",
     "text": [
      "   time_idx      vals  group_ids\n",
      "0         0  0.000000         66\n",
      "1         1  0.020201         66\n",
      "2         2  0.040393         66\n",
      "3         3  0.060569         66\n",
      "4         4  0.080720         66\n",
      "5         5  0.100838         66\n",
      "6         6  0.120916         66\n",
      "7         7  0.140943         66\n",
      "8         8  0.160914         66\n",
      "9         9  0.180818         66\n",
      "(100, 3)\n",
      "time_idx       int64\n",
      "vals         float64\n",
      "group_ids      int64\n",
      "dtype: object\n"
     ]
    }
   ],
   "source": [
    "# Create the 'time_idx' column with incremental values from 0 to 99\n",
    "time_idx = np.arange(100)\n",
    "\n",
    "# Create the 'values' column with values representing a sine wave\n",
    "time_points = np.linspace(0, 2, 100)\n",
    "values = np.sin(time_points)\n",
    "\n",
    "# Create the 'group_ids' column with a constant value of 66\n",
    "#group1 = np.full(50, 11)\n",
    "#group2 = np.full(30, 22)\n",
    "#group3 = np.full(20, 33)\n",
    "\n",
    "#group_ids = np.concatenate((group1, group2, group3), axis = 0)\n",
    "\n",
    "# Combine the columns into a dictionary\n",
    "data = {'time_idx': time_idx, 'vals': values, 'group_ids': 66}\n",
    "\n",
    "# Create the DataFrame\n",
    "df = pd.DataFrame(data)\n",
    "\n",
    "# Print the DataFrame\n",
    "print(df.head(10))\n",
    "print(df.shape)\n",
    "print(df.dtypes)"
   ]
  },
  {
   "cell_type": "code",
   "execution_count": 3,
   "id": "5a4be66e",
   "metadata": {},
   "outputs": [
    {
     "name": "stdout",
     "output_type": "stream",
     "text": [
      "\n",
      "train_df shape: (50, 3)\n",
      "val_df shape: (30, 3)\n",
      "test_df shape: (20, 3)\n",
      "\n"
     ]
    }
   ],
   "source": [
    "#data slicing\n",
    "training_cutoff = 50\n",
    "train_df = df[lambda x: x.time_idx < training_cutoff]\n",
    "val_df = df[lambda x: (x.time_idx >= training_cutoff) & (x.time_idx < 80)]\n",
    "test_df = df[lambda x: x.time_idx >= 80]\n",
    "\n",
    "print(f\"\"\"\n",
    "train_df shape: {train_df.shape}\n",
    "val_df shape: {val_df.shape}\n",
    "test_df shape: {test_df.shape}\n",
    "\"\"\")"
   ]
  },
  {
   "cell_type": "code",
   "execution_count": 4,
   "id": "44fba0ab",
   "metadata": {},
   "outputs": [
    {
     "name": "stdout",
     "output_type": "stream",
     "text": [
      "check any NaN in the data:\n",
      "        train_df: False\n",
      "        val_df: False\n",
      "        test_df: False\n",
      "        \n"
     ]
    }
   ],
   "source": [
    "print(f\"\"\"check any NaN in the data:\n",
    "        train_df: {train_df.isna().any().any()}\n",
    "        val_df: {val_df.isna().any().any()}\n",
    "        test_df: {test_df.isna().any().any()}\n",
    "        \"\"\")"
   ]
  },
  {
   "cell_type": "code",
   "execution_count": 5,
   "id": "2300f2d2",
   "metadata": {},
   "outputs": [
    {
     "name": "stdout",
     "output_type": "stream",
     "text": [
      "any inf in data:\n",
      "        train_df: False\n",
      "        val_df: False\n",
      "        test_df: False\n",
      "        \n"
     ]
    }
   ],
   "source": [
    "print(f\"\"\"any inf in data:\n",
    "        train_df: {train_df.isin([-np.inf, np.inf]).any().any()}\n",
    "        val_df: {val_df.isin([-np.inf, np.inf]).any().any()}\n",
    "        test_df: {test_df.isin([-np.inf, np.inf]).any().any()}\n",
    "        \"\"\")"
   ]
  },
  {
   "cell_type": "code",
   "execution_count": 6,
   "id": "02076803",
   "metadata": {},
   "outputs": [],
   "source": [
    "# Create the TimeSeriesDataSet\n",
    "train_dataset = TimeSeriesDataSet(\n",
    "    train_df,\n",
    "    group_ids=[\"group_ids\"],\n",
    "    target=\"vals\",\n",
    "    time_idx=\"time_idx\",\n",
    "    max_encoder_length = 5,\n",
    "    max_prediction_length = 2,\n",
    "    time_varying_unknown_reals=[\"vals\"],\n",
    "    target_normalizer=EncoderNormalizer(transformation=\"softplus\")\n",
    ")"
   ]
  },
  {
   "cell_type": "code",
   "execution_count": 7,
   "id": "a72b7a06",
   "metadata": {},
   "outputs": [],
   "source": [
    "val_dataset = TimeSeriesDataSet.from_dataset(\n",
    "    train_dataset,\n",
    "    val_df\n",
    ")\n",
    "test_dataset = TimeSeriesDataSet.from_dataset(\n",
    "    train_dataset,\n",
    "    test_df\n",
    ")"
   ]
  },
  {
   "cell_type": "code",
   "execution_count": null,
   "id": "efc83835",
   "metadata": {},
   "outputs": [],
   "source": [
    "train_dataloader = train_dataset.to_dataloader(\n",
    "    train=False, #keep the \"train=False\" is to sliding through the whole dataset\n",
    "    batch_size=100 #make the \"batch size\" >> than the dataset size is to align with the sliding window effect\n",
    ")\n",
    "val_dataloader = val_dataset.to_dataloader(\n",
    "    train=False,\n",
    "    batch_size=100\n",
    ")\n",
    "test_dataloader = test_dataset.to_dataloader(\n",
    "    train=False,\n",
    "    batch_size=100\n",
    ")"
   ]
  },
  {
   "cell_type": "code",
   "execution_count": 9,
   "id": "678b8f66",
   "metadata": {},
   "outputs": [
    {
     "name": "stderr",
     "output_type": "stream",
     "text": [
      "Seed set to 666\n",
      "Using default `ModelCheckpoint`. Consider installing `litmodels` package to enable `LitModelCheckpoint` for automatic upload to the Lightning model registry.\n",
      "GPU available: True (cuda), used: True\n",
      "TPU available: False, using: 0 TPU cores\n",
      "HPU available: False, using: 0 HPUs\n"
     ]
    },
    {
     "name": "stdout",
     "output_type": "stream",
     "text": [
      "Number of parameters in network: 5.267k\n"
     ]
    }
   ],
   "source": [
    "pl.seed_everything(666)\n",
    "\n",
    "lr_tune_logger = TensorBoardLogger(save_dir = \"\", version = \"lr\")  # logging results to the current pwd\n",
    "lr_early_stop_callback = EarlyStopping(\n",
    "    monitor=\"val_loss\", min_delta=1e-4, patience=10, mode=\"min\"\n",
    ")\n",
    "\n",
    "#set up trainer for tunning\n",
    "lr_trainer = pl.Trainer(\n",
    "    accelerator = \"gpu\",\n",
    "    devices = \"auto\",\n",
    "    gradient_clip_val = 0.1,\n",
    "    #fast_dev_run=True,  # comment in for debugging, only 1 training and 1 validation batch to run\n",
    "    callbacks=[lr_early_stop_callback],\n",
    "    logger = lr_tune_logger #if the logger is not set, the default loger will be saved under default name = version_0\n",
    ")\n",
    "\n",
    "#set up tft for tunning \n",
    "tft_tuner = TemporalFusionTransformer.from_dataset(\n",
    "    train_dataset,\n",
    "    # dummy lr required for the following lr_finder initiation\n",
    "    learning_rate = 0.06,\n",
    "    hidden_size = 8,  # most important hyperparameter apart from learning rate\n",
    "    lstm_layers = 2,  # set to 2 or 3 for large datasets\n",
    "    # number of attention heads. Set to up to 4 for large datasets\n",
    "    attention_head_size = 2,\n",
    "    dropout = 0.1,  # between 0.1 and 0.3 are good values\n",
    "    loss = QuantileLoss(), \n",
    "    #quantiles = [0.02, 0.1, 0.25, 0.5, 0.75, 0.9, 0.98] as defined in `pytorch_forecasting.metrics.quantile.QuantileLoss` source code\n",
    "    reduce_on_plateau_patience = 100\n",
    ")\n",
    "print(f\"Number of parameters in network: {tft_tuner.size() / 1e3:.3f}k\")"
   ]
  },
  {
   "cell_type": "code",
   "execution_count": 10,
   "id": "7793359e",
   "metadata": {},
   "outputs": [
    {
     "name": "stderr",
     "output_type": "stream",
     "text": [
      "LOCAL_RANK: 0 - CUDA_VISIBLE_DEVICES: [0]\n",
      "Finding best initial lr: 100%|██████████| 100/100 [01:24<00:00,  1.85it/s]`Trainer.fit` stopped: `max_steps=100` reached.\n",
      "Finding best initial lr: 100%|██████████| 100/100 [01:24<00:00,  1.18it/s]\n",
      "Learning rate set to 0.012589254117941664\n",
      "Restoring states from the checkpoint path at /home/daokedao999/.local/share/jupyter/kernels/myenv/.lr_find_a3c0939a-de4d-4e16-b0e5-640ad44f0d73.ckpt\n",
      "Restored all states from the checkpoint at /home/daokedao999/.local/share/jupyter/kernels/myenv/.lr_find_a3c0939a-de4d-4e16-b0e5-640ad44f0d73.ckpt\n"
     ]
    },
    {
     "name": "stdout",
     "output_type": "stream",
     "text": [
      "suggested learning rate: 0.012589254117941664\n"
     ]
    },
    {
     "data": {
      "image/png": "[encoded data removed]",
      "text/plain": [
       "<Figure size 640x480 with 1 Axes>"
      ]
     },
     "metadata": {},
     "output_type": "display_data"
    }
   ],
   "source": [
    "# learning rate optimization\n",
    "lr_tuner = Tuner(lr_trainer).lr_find(\n",
    "    tft_tuner,\n",
    "    train_dataloaders = train_dataloader,\n",
    "    val_dataloaders = val_dataloader,\n",
    "    max_lr = 0.1,\n",
    "    min_lr = 1e-6,\n",
    ")\n",
    "\n",
    "print(f\"suggested learning rate: {lr_tuner.suggestion()}\")\n",
    "fig = lr_tuner.plot(show=True, suggest=True)\n",
    "fig.show()"
   ]
  },
  {
   "cell_type": "code",
   "execution_count": 11,
   "id": "00f75789",
   "metadata": {},
   "outputs": [
    {
     "name": "stderr",
     "output_type": "stream",
     "text": [
      "Using default `ModelCheckpoint`. Consider installing `litmodels` package to enable `LitModelCheckpoint` for automatic upload to the Lightning model registry.\n",
      "GPU available: True (cuda), used: True\n",
      "TPU available: False, using: 0 TPU cores\n",
      "HPU available: False, using: 0 HPUs\n"
     ]
    },
    {
     "name": "stdout",
     "output_type": "stream",
     "text": [
      "Number of parameters in network: 5.267k\n"
     ]
    }
   ],
   "source": [
    "#set up trainer for training\n",
    "logger = TensorBoardLogger(save_dir = \"\", version = \"train\")  # logging results to the current pwd\n",
    "early_stop_callback = EarlyStopping(\n",
    "    monitor=\"val_loss\", min_delta=1e-4, patience=10, mode=\"min\"\n",
    ")\n",
    "\n",
    "trainer = pl.Trainer(\n",
    "    accelerator = \"gpu\",\n",
    "    devices = -1,\n",
    "    gradient_clip_val = 0.1,\n",
    "    #fast_dev_run=True,  # comment in for debugging, only 1 training and 1 validation batch to run\n",
    "    callbacks=[early_stop_callback],\n",
    "    logger = logger,\n",
    ")\n",
    "\n",
    "#set up tft for taining\n",
    "tft = TemporalFusionTransformer.from_dataset(\n",
    "    train_dataset,\n",
    "    # not meaningful for finding the learning rate but otherwise very important\n",
    "    learning_rate = lr_tuner.suggestion(),\n",
    "    hidden_size = 8,  # most important hyperparameter apart from learning rate\n",
    "    # number of attention heads. Set to up to 4 for large datasets\n",
    "    attention_head_size = 2,\n",
    "    lstm_layers = 2,  # set to 2 or 3 for large datasets\n",
    "    dropout = 0.1,  # between 0.1 and 0.3 are good values\n",
    "    loss = QuantileLoss(),\n",
    "    reduce_on_plateau_patience = 100\n",
    ")\n",
    "print(f\"Number of parameters in network: {tft.size() / 1e3:.3f}k\") "
   ]
  },
  {
   "cell_type": "code",
   "execution_count": 12,
   "id": "611c5baa",
   "metadata": {},
   "outputs": [
    {
     "name": "stderr",
     "output_type": "stream",
     "text": [
      "LOCAL_RANK: 0 - CUDA_VISIBLE_DEVICES: [0]\n",
      "\n",
      "   | Name                               | Type                            | Params | Mode \n",
      "------------------------------------------------------------------------------------------------\n",
      "0  | loss                               | QuantileLoss                    | 0      | train\n",
      "1  | logging_metrics                    | ModuleList                      | 0      | train\n",
      "2  | input_embeddings                   | MultiEmbedding                  | 0      | train\n",
      "3  | prescalers                         | ModuleDict                      | 16     | train\n",
      "4  | static_variable_selection          | VariableSelectionNetwork        | 0      | train\n",
      "5  | encoder_variable_selection         | VariableSelectionNetwork        | 320    | train\n",
      "6  | decoder_variable_selection         | VariableSelectionNetwork        | 0      | train\n",
      "7  | static_context_variable_selection  | GatedResidualNetwork            | 304    | train\n",
      "8  | static_context_initial_hidden_lstm | GatedResidualNetwork            | 304    | train\n",
      "9  | static_context_initial_cell_lstm   | GatedResidualNetwork            | 304    | train\n",
      "10 | static_context_enrichment          | GatedResidualNetwork            | 304    | train\n",
      "11 | lstm_encoder                       | LSTM                            | 1.2 K  | train\n",
      "12 | lstm_decoder                       | LSTM                            | 1.2 K  | train\n",
      "13 | post_lstm_gate_encoder             | GatedLinearUnit                 | 144    | train\n",
      "14 | post_lstm_add_norm_encoder         | AddNorm                         | 16     | train\n",
      "15 | static_enrichment                  | GatedResidualNetwork            | 368    | train\n",
      "16 | multihead_attn                     | InterpretableMultiHeadAttention | 212    | train\n",
      "17 | post_attn_gate_norm                | GateAddNorm                     | 160    | train\n",
      "18 | pos_wise_ff                        | GatedResidualNetwork            | 304    | train\n",
      "19 | pre_output_gate_norm               | GateAddNorm                     | 160    | train\n",
      "20 | output_layer                       | Linear                          | 63     | train\n",
      "------------------------------------------------------------------------------------------------\n",
      "5.3 K     Trainable params\n",
      "0         Non-trainable params\n",
      "5.3 K     Total params\n",
      "0.021     Total estimated model params size (MB)\n",
      "124       Modules in train mode\n",
      "0         Modules in eval mode\n"
     ]
    },
    {
     "name": "stdout",
     "output_type": "stream",
     "text": [
      "Epoch 34: 100%|██████████| 1/1 [00:00<00:00,  1.04it/s, v_num=rain, train_loss_step=0.0225, val_loss=0.0044, train_loss_epoch=0.0225] \n"
     ]
    }
   ],
   "source": [
    "# fit network\n",
    "trainer.fit(\n",
    "    tft,\n",
    "    train_dataloaders = train_dataloader,\n",
    "    val_dataloaders = val_dataloader\n",
    ")"
   ]
  },
  {
   "cell_type": "code",
   "execution_count": null,
   "id": "c5aac690",
   "metadata": {},
   "outputs": [],
   "source": [
    "#open tensorboard to check the results\n",
    "tb = program.TensorBoard()\n",
    "tb.configure(argv=[None, '--logdir', 'lightning_logs', '--port', '6006'])\n",
    "print(\"TensorBoard running at http://localhost:6006/\")\n",
    "tb.main()"
   ]
  },
  {
   "cell_type": "code",
   "execution_count": 13,
   "id": "68297b81",
   "metadata": {},
   "outputs": [],
   "source": [
    "#load the best model according to the validation loss\n",
    "best_model_path = trainer.checkpoint_callback.best_model_path\n",
    "best_tft = TemporalFusionTransformer.load_from_checkpoint(best_model_path)"
   ]
  },
  {
   "cell_type": "code",
   "execution_count": 14,
   "id": "cec186c0",
   "metadata": {},
   "outputs": [
    {
     "name": "stderr",
     "output_type": "stream",
     "text": [
      "LOCAL_RANK: 0 - CUDA_VISIBLE_DEVICES: [0]\n"
     ]
    },
    {
     "name": "stdout",
     "output_type": "stream",
     "text": [
      "Validation DataLoader 0: 100%|██████████| 1/1 [00:00<00:00,  3.44it/s]\n"
     ]
    },
    {
     "data": {
      "text/html": [
       "<pre style=\"white-space:pre;overflow-x:auto;line-height:normal;font-family:Menlo,'DejaVu Sans Mono',consolas,'Courier New',monospace\">┏━━━━━━━━━━━━━━━━━━━━━━━━━━━┳━━━━━━━━━━━━━━━━━━━━━━━━━━━┓\n",
       "┃<span style=\"font-weight: bold\">      Validate metric      </span>┃<span style=\"font-weight: bold\">       DataLoader 0        </span>┃\n",
       "┡━━━━━━━━━━━━━━━━━━━━━━━━━━━╇━━━━━━━━━━━━━━━━━━━━━━━━━━━┩\n",
       "│<span style=\"color: #008080; text-decoration-color: #008080\">          val_MAE          </span>│<span style=\"color: #800080; text-decoration-color: #800080\">     0.008423394523561     </span>│\n",
       "│<span style=\"color: #008080; text-decoration-color: #008080\">         val_MAPE          </span>│<span style=\"color: #800080; text-decoration-color: #800080\">   0.008875485509634018    </span>│\n",
       "│<span style=\"color: #008080; text-decoration-color: #008080\">         val_RMSE          </span>│<span style=\"color: #800080; text-decoration-color: #800080\">   0.010106625035405159    </span>│\n",
       "│<span style=\"color: #008080; text-decoration-color: #008080\">         val_SMAPE         </span>│<span style=\"color: #800080; text-decoration-color: #800080\">   0.008933818899095058    </span>│\n",
       "│<span style=\"color: #008080; text-decoration-color: #008080\">         val_loss          </span>│<span style=\"color: #800080; text-decoration-color: #800080\">    0.00440498860552907    </span>│\n",
       "└───────────────────────────┴───────────────────────────┘\n",
       "</pre>\n"
      ],
      "text/plain": [
       "┏━━━━━━━━━━━━━━━━━━━━━━━━━━━┳━━━━━━━━━━━━━━━━━━━━━━━━━━━┓\n",
       "┃\u001b[1m \u001b[0m\u001b[1m     Validate metric     \u001b[0m\u001b[1m \u001b[0m┃\u001b[1m \u001b[0m\u001b[1m      DataLoader 0       \u001b[0m\u001b[1m \u001b[0m┃\n",
       "┡━━━━━━━━━━━━━━━━━━━━━━━━━━━╇━━━━━━━━━━━━━━━━━━━━━━━━━━━┩\n",
       "│\u001b[36m \u001b[0m\u001b[36m         val_MAE         \u001b[0m\u001b[36m \u001b[0m│\u001b[35m \u001b[0m\u001b[35m    0.008423394523561    \u001b[0m\u001b[35m \u001b[0m│\n",
       "│\u001b[36m \u001b[0m\u001b[36m        val_MAPE         \u001b[0m\u001b[36m \u001b[0m│\u001b[35m \u001b[0m\u001b[35m  0.008875485509634018   \u001b[0m\u001b[35m \u001b[0m│\n",
       "│\u001b[36m \u001b[0m\u001b[36m        val_RMSE         \u001b[0m\u001b[36m \u001b[0m│\u001b[35m \u001b[0m\u001b[35m  0.010106625035405159   \u001b[0m\u001b[35m \u001b[0m│\n",
       "│\u001b[36m \u001b[0m\u001b[36m        val_SMAPE        \u001b[0m\u001b[36m \u001b[0m│\u001b[35m \u001b[0m\u001b[35m  0.008933818899095058   \u001b[0m\u001b[35m \u001b[0m│\n",
       "│\u001b[36m \u001b[0m\u001b[36m        val_loss         \u001b[0m\u001b[36m \u001b[0m│\u001b[35m \u001b[0m\u001b[35m   0.00440498860552907   \u001b[0m\u001b[35m \u001b[0m│\n",
       "└───────────────────────────┴───────────────────────────┘\n"
      ]
     },
     "metadata": {},
     "output_type": "display_data"
    },
    {
     "data": {
      "text/plain": [
       "[{'val_loss': 0.00440498860552907,\n",
       "  'val_SMAPE': 0.008933818899095058,\n",
       "  'val_MAE': 0.008423394523561,\n",
       "  'val_RMSE': 0.010106625035405159,\n",
       "  'val_MAPE': 0.008875485509634018}]"
      ]
     },
     "execution_count": 14,
     "metadata": {},
     "output_type": "execute_result"
    }
   ],
   "source": [
    "#check the metrics on val_dataset\n",
    "trainer.validate(best_tft, dataloaders=val_dataloader)#, ckpt_path=best_model_path)\n",
    "#the \"ckpt_path\" argument is not necessary, but it is good practice to load the best model"
   ]
  },
  {
   "cell_type": "code",
   "execution_count": 15,
   "id": "00522c9e",
   "metadata": {},
   "outputs": [
    {
     "name": "stderr",
     "output_type": "stream",
     "text": [
      "Using default `ModelCheckpoint`. Consider installing `litmodels` package to enable `LitModelCheckpoint` for automatic upload to the Lightning model registry.\n",
      "GPU available: True (cuda), used: True\n",
      "TPU available: False, using: 0 TPU cores\n",
      "HPU available: False, using: 0 HPUs\n",
      "LOCAL_RANK: 0 - CUDA_VISIBLE_DEVICES: [0]\n"
     ]
    }
   ],
   "source": [
    "#test_pred = best_tft.predict(test_dataloader, return_y=True)\n",
    "#test_pred_x = best_tft.predict(test_dataloader, return_x=True)\n",
    "test_pred_x_raw = best_tft.predict(test_dataloader, mode=\"raw\", return_x=True, return_y=True) #incldue the attension weights"
   ]
  },
  {
   "cell_type": "code",
   "execution_count": 17,
   "id": "47d31aa0",
   "metadata": {},
   "outputs": [],
   "source": [
    "SMAPE(reduction=None).loss(test_pred.output,test_pred.y[0]).mean(1) #the \"output\" is the median prediction"
   ]
  },
  {
   "cell_type": "code",
   "execution_count": 18,
   "id": "2b21dd57",
   "metadata": {},
   "outputs": [],
   "source": [
    "test_pred_x_raw #the outputs are quantile predictions comparing the single prediction of \"test_pred\""
   ]
  },
  {
   "cell_type": "code",
   "execution_count": 21,
   "id": "5707ca67",
   "metadata": {},
   "outputs": [],
   "source": [
    "test_pred_x_raw.output.prediction.shape #the quantile predictions, the median = test_pred.output\n",
    "#the \"output\" is a dictionary, the \"prediction\" is a tensor with the shape of (batch_size, prediction_length, num_quantiles)\n",
    "#the quantiles = [0.02, 0.1, 0.25, 0.5, 0.75, 0.9, 0.98] as defined in `pytorch_forecasting.metrics.quantile.QuantileLoss` source code"
   ]
  },
  {
   "cell_type": "code",
   "execution_count": 16,
   "id": "a344d22e",
   "metadata": {},
   "outputs": [
    {
     "ename": "NameError",
     "evalue": "name 'test_pred' is not defined",
     "output_type": "error",
     "traceback": [
      "\u001b[0;31m---------------------------------------------------------------------------\u001b[0m",
      "\u001b[0;31mNameError\u001b[0m                                 Traceback (most recent call last)",
      "Cell \u001b[0;32mIn[16], line 3\u001b[0m\n\u001b[1;32m      1\u001b[0m \u001b[38;5;66;03m#to prove above statement：\u001b[39;00m\n\u001b[1;32m      2\u001b[0m results \u001b[38;5;241m=\u001b[39m \u001b[38;5;28;01mTrue\u001b[39;00m\n\u001b[0;32m----> 3\u001b[0m \u001b[38;5;28;01mfor\u001b[39;00m b \u001b[38;5;129;01min\u001b[39;00m \u001b[38;5;28mrange\u001b[39m(\u001b[43mtest_pred\u001b[49m\u001b[38;5;241m.\u001b[39moutput\u001b[38;5;241m.\u001b[39mshape[\u001b[38;5;241m0\u001b[39m]):\n\u001b[1;32m      4\u001b[0m     results_check \u001b[38;5;241m=\u001b[39m (test_pred_x_raw\u001b[38;5;241m.\u001b[39moutput\u001b[38;5;241m.\u001b[39mprediction[b, :, \u001b[38;5;241m3\u001b[39m] \u001b[38;5;241m==\u001b[39m test_pred\u001b[38;5;241m.\u001b[39moutput[b,\u001b[38;5;241m.\u001b[39m\u001b[38;5;241m.\u001b[39m\u001b[38;5;241m.\u001b[39m])\u001b[38;5;241m.\u001b[39mall()\n\u001b[1;32m      5\u001b[0m \u001b[38;5;28;01mif\u001b[39;00m \u001b[38;5;129;01mnot\u001b[39;00m results_check:\n",
      "\u001b[0;31mNameError\u001b[0m: name 'test_pred' is not defined"
     ]
    }
   ],
   "source": [
    "#to prove above statement：\n",
    "results = True\n",
    "for b in range(test_pred.output.shape[0]):\n",
    "    results_check = (test_pred_x_raw.output.prediction[b, :, 3] == test_pred.output[b,...]).all()\n",
    "if not results_check:\n",
    "    results = False\n",
    "    print(f\"NO, the output is not equal to the median prediction\")\n",
    "else:\n",
    "    print(f\"YES, the output is equal to the median prediction\")"
   ]
  },
  {
   "cell_type": "code",
   "execution_count": 32,
   "id": "d6cf8947",
   "metadata": {},
   "outputs": [],
   "source": [
    "test_pred_x_raw.y[0].shape"
   ]
  },
  {
   "cell_type": "code",
   "execution_count": 101,
   "id": "f25c5280",
   "metadata": {},
   "outputs": [],
   "source": [
    "test_pred_x_raw.output.keys()"
   ]
  },
  {
   "cell_type": "code",
   "execution_count": 100,
   "id": "6bea652a",
   "metadata": {},
   "outputs": [],
   "source": [
    "test_pred_x_raw.output.prediction.shape"
   ]
  },
  {
   "cell_type": "code",
   "execution_count": 26,
   "id": "0aeccd81",
   "metadata": {},
   "outputs": [],
   "source": [
    "test_pred_x_raw.x.keys()"
   ]
  },
  {
   "cell_type": "code",
   "execution_count": 31,
   "id": "987f8589",
   "metadata": {},
   "outputs": [],
   "source": [
    "test_pred_x_raw.x[\"decoder_target\"].shape"
   ]
  },
  {
   "cell_type": "code",
   "execution_count": 30,
   "id": "17f77be7",
   "metadata": {},
   "outputs": [
    {
     "name": "stdout",
     "output_type": "stream",
     "text": [
      "True\n"
     ]
    }
   ],
   "source": [
    "print(torch.equal(test_pred_x_raw.x[\"decoder_target\"],test_pred_x_raw.y[0]))"
   ]
  },
  {
   "cell_type": "code",
   "execution_count": 17,
   "id": "ed8a86db",
   "metadata": {},
   "outputs": [
    {
     "name": "stdout",
     "output_type": "stream",
     "text": [
      "torch.Size([15, 2])\n"
     ]
    }
   ],
   "source": [
    "stacked_true = torch.stack([test_pred_x_raw.x[\"decoder_time_idx\"], test_pred_x_raw.y[0]], dim=2)\n",
    "stacked_true = stacked_true.reshape(-1, 2)\n",
    "stacked_true = stacked_true.unique(dim=0)\n",
    "print(stacked_true.shape)"
   ]
  },
  {
   "cell_type": "code",
   "execution_count": 18,
   "id": "30fc6fff",
   "metadata": {},
   "outputs": [],
   "source": [
    "stack_check=stacked_true[:,1].reshape(-1,1).cpu() #the model is on \"GPU\" needs to be move to \"CPU\""
   ]
  },
  {
   "cell_type": "code",
   "execution_count": 19,
   "id": "ad7dc91a",
   "metadata": {},
   "outputs": [
    {
     "data": {
      "text/plain": [
       "torch.Size([15, 1])"
      ]
     },
     "execution_count": 19,
     "metadata": {},
     "output_type": "execute_result"
    }
   ],
   "source": [
    "test_val=torch.tensor(test_df[test_df[\"time_idx\"] >= 85][\"vals\"].values).unsqueeze(1)\n",
    "test_val.shape"
   ]
  },
  {
   "cell_type": "code",
   "execution_count": 60,
   "id": "24054772",
   "metadata": {},
   "outputs": [
    {
     "data": {
      "text/plain": [
       "torch.Size([15])"
      ]
     },
     "execution_count": 60,
     "metadata": {},
     "output_type": "execute_result"
    }
   ],
   "source": [
    "test_plot=torch.tensor(test_df[test_df[\"time_idx\"] >= 85][\"vals\"].values)\n",
    "test_plot.shape"
   ]
  },
  {
   "cell_type": "code",
   "execution_count": 20,
   "id": "bc77d03b",
   "metadata": {},
   "outputs": [
    {
     "data": {
      "text/plain": [
       "tensor([7.3585e-08], dtype=torch.float64)"
      ]
     },
     "execution_count": 20,
     "metadata": {},
     "output_type": "execute_result"
    }
   ],
   "source": [
    "sum(test_val-stack_check) #the difference is caused by the \"TimeSeriesDataSet\"."
   ]
  },
  {
   "cell_type": "code",
   "execution_count": 21,
   "id": "24be9346",
   "metadata": {},
   "outputs": [
    {
     "data": {
      "text/plain": [
       "tensor([7.3585e-08], dtype=torch.float64)"
      ]
     },
     "execution_count": 21,
     "metadata": {},
     "output_type": "execute_result"
    }
   ],
   "source": [
    "sum(test_val-test_pred_x_raw.y[0].reshape(-1, 1).unique(dim=0).cpu())"
   ]
  },
  {
   "cell_type": "code",
   "execution_count": 53,
   "id": "6b0c3f8a",
   "metadata": {},
   "outputs": [],
   "source": [
    "#results plotting function\n",
    "def plot_single_timeseries_quantile_predictions(tensor1_preds, tensor2_actuals,\n",
    "                                                quantile_levels=None, quantile_labels=None,\n",
    "                                                title=\"Time Series Quantile Prediction\"):\n",
    "    \"\"\"\n",
    "    Plots quantile predictions (tensor1_preds) against actual values (tensor2_actuals)\n",
    "    for a single time series.\n",
    "\n",
    "    Args:\n",
    "        tensor1_preds (np.ndarray): Quantile predictions. Shape: [time, features].\n",
    "                                    Features are assumed to be sorted quantiles.\n",
    "                                    Example for 7 features: [q0.02, q0.1, q0.25, q0.5, q0.75, q0.9, q0.98]\n",
    "        tensor2_actuals (np.ndarray): Actual values. Shape: [time].\n",
    "        quantile_levels (list of float, optional): The actual quantile levels corresponding\n",
    "                                                   to the features in tensor1_preds.\n",
    "                                                   Used for generating accurate default labels.\n",
    "        quantile_labels (list of str, optional): Labels for the prediction intervals.\n",
    "                                                 If None, default labels will be generated.\n",
    "                                                 Order should correspond to outermost to innermost interval.\n",
    "        title (str, optional): The title for the plot.\n",
    "    \"\"\"\n",
    "    if tensor1_preds.ndim != 2:\n",
    "        raise ValueError(\"tensor1_preds (predictions) must be 2D [time, features].\")\n",
    "    if tensor2_actuals.ndim != 1:\n",
    "        raise ValueError(\"tensor2_actuals (actuals) must be 1D [time].\")\n",
    "    if tensor1_preds.shape[0] != tensor2_actuals.shape[0]:\n",
    "        raise ValueError(\"Time dimension of tensor1_preds and tensor2_actuals must match.\")\n",
    "\n",
    "    num_time_steps = tensor1_preds.shape[0]\n",
    "    num_features = tensor1_preds.shape[1]\n",
    "\n",
    "    if num_features % 2 == 0:\n",
    "        raise ValueError(\"Number of features in tensor1_preds must be odd to have a central median.\")\n",
    "    \n",
    "    median_index = num_features // 2\n",
    "\n",
    "    # Define quantile labels if not provided\n",
    "    if quantile_labels is None:\n",
    "        if num_features == 7 and quantile_levels and len(quantile_levels) == 7:\n",
    "            # Generate labels based on provided quantile_levels\n",
    "            # Assumes pairs are (0,6), (1,5), (2,4) for features\n",
    "            pi1_lower, pi1_upper = quantile_levels[0], quantile_levels[6]\n",
    "            pi2_lower, pi2_upper = quantile_levels[1], quantile_levels[5]\n",
    "            pi3_lower, pi3_upper = quantile_levels[2], quantile_levels[4]\n",
    "            \n",
    "            quantile_labels = [\n",
    "                f\"{(pi1_upper - pi1_lower) * 100:.0f}% PI ({pi1_lower:.2f}-{pi1_upper:.2f})\", # Outermost\n",
    "                f\"{(pi2_upper - pi2_lower) * 100:.0f}% PI ({pi2_lower:.2f}-{pi2_upper:.2f})\", # Middle\n",
    "                f\"{(pi3_upper - pi3_lower) * 100:.0f}% PI ({pi3_lower:.2f}-{pi3_upper:.2f})\"  # Innermost\n",
    "            ]\n",
    "        elif num_features == 7: # Default for 7 features if specific levels not given\n",
    "             quantile_labels = [\"96% PI (e.g., 0.02-0.98)\", \"80% PI (e.g., 0.1-0.9)\", \"50% PI (e.g., 0.25-0.75)\"]\n",
    "        else:\n",
    "            # Fallback for a different number of features\n",
    "            quantile_labels = [f\"Interval {i+1}\" for i in range(num_features // 2)]\n",
    "    \n",
    "    if len(quantile_labels) != num_features // 2:\n",
    "        raise ValueError(f\"Expected {num_features // 2} quantile labels, but got {len(quantile_labels)}.\")\n",
    "\n",
    "    # Set a nice seaborn style\n",
    "    sns.set_theme(style=\"whitegrid\")\n",
    "\n",
    "    fig, ax = plt.subplots(figsize=(12, 6)) # Single plot\n",
    "\n",
    "    time_indices = np.arange(num_time_steps)\n",
    "\n",
    "    # Plot actual values\n",
    "    ax.plot(time_indices, tensor2_actuals, label=\"Actual\", color=\"black\", marker='o', linestyle='-', zorder=num_features//2 + 2)\n",
    "\n",
    "    # Plot median prediction (middle feature)\n",
    "    median_prediction = tensor1_preds[:, median_index]\n",
    "    median_label_text = f\"Median ({quantile_levels[median_index]:.2f}Q)\" if quantile_levels and median_index < len(quantile_levels) else \"Median Prediction\"\n",
    "    ax.plot(time_indices, median_prediction, label=median_label_text, color=\"blue\", marker='x', linestyle='--', zorder=num_features//2 + 1)\n",
    "\n",
    "    # Plot prediction intervals\n",
    "    # Intervals are formed by pairing features from outside in\n",
    "    # e.g., for 7 features: (feature 0, feature 6), (feature 1, feature 5), (feature 2, feature 4)\n",
    "    # Colors for intervals - from lighter to darker for better visual hierarchy\n",
    "    # Using a list of distinct, visually pleasing colors for intervals\n",
    "    interval_palette = sns.color_palette(\"Blues\", n_colors=num_features // 2 + 2) # Get a few shades\n",
    "    \n",
    "    # The quantile_labels should be ordered from outermost to innermost.\n",
    "    # The loop for j goes from 0 (outermost interval) to (num_features // 2 - 1) (innermost interval).\n",
    "    for j in range(num_features // 2):\n",
    "        lower_quantile_idx = j\n",
    "        upper_quantile_idx = num_features - 1 - j\n",
    "        \n",
    "        # Assign colors such that the widest interval is lightest, narrowest is darkest within the theme\n",
    "        # So, interval_colors[j] means the j-th interval (0 = outermost) gets a progressively darker shade.\n",
    "        # The label quantile_labels[j] should correspond to this j-th interval.\n",
    "        ax.fill_between(time_indices, tensor1_preds[:, lower_quantile_idx], tensor1_preds[:, upper_quantile_idx],\n",
    "                        color=interval_palette[j], # interval_palette[0] is light, interval_palette[num_features//2 -1] is darker\n",
    "                        alpha=0.3 + (j * 0.1), # Alpha can also increase for inner bands if desired\n",
    "                        label=quantile_labels[j], \n",
    "                        zorder=j+1)\n",
    "\n",
    "\n",
    "    ax.set_title(title)\n",
    "    ax.set_xlabel(\"Time Step\")\n",
    "    ax.set_ylabel(\"Value\")\n",
    "\n",
    "    if num_time_steps <= 20: # Show markers if not too many time steps\n",
    "        ax.set_xticks(time_indices)\n",
    "    else: # Otherwise, let matplotlib decide tick locations for readability\n",
    "        pass\n",
    "\n",
    "    # Add legend\n",
    "    handles, labels = ax.get_legend_handles_labels()\n",
    "    # Custom sort order for legend: Actual, Median, then PIs (already ordered by plotting)\n",
    "    # If specific order is needed and not achieved by plotting order:\n",
    "    # order_preference = [\"Actual\", median_label_text] + quantile_labels\n",
    "    # sorted_legend = sorted(zip(handles, labels), key=lambda x: order_preference.index(x[1]) if x[1] in order_preference else float('inf'))\n",
    "    # handles = [h for h, l in sorted_legend]\n",
    "    # labels = [l for h, l in sorted_legend]\n",
    "    ax.legend(handles, labels, loc='upper left', bbox_to_anchor=(1.02, 1))\n",
    "\n",
    "\n",
    "    plt.tight_layout(rect=[0, 0, 0.85, 1]) # Adjust layout to make space for the legend outside\n",
    "    plt.show()"
   ]
  },
  {
   "cell_type": "code",
   "execution_count": 23,
   "id": "74104520",
   "metadata": {},
   "outputs": [
    {
     "data": {
      "text/plain": [
       "torch.Size([28, 7])"
      ]
     },
     "execution_count": 23,
     "metadata": {},
     "output_type": "execute_result"
    }
   ],
   "source": [
    "pred=test_pred_x_raw.output.prediction.reshape(-1, 7)\n",
    "pred.shape"
   ]
  },
  {
   "cell_type": "code",
   "execution_count": 24,
   "id": "078df0e3",
   "metadata": {},
   "outputs": [
    {
     "data": {
      "text/plain": [
       "tensor([0.])"
      ]
     },
     "execution_count": 24,
     "metadata": {},
     "output_type": "execute_result"
    }
   ],
   "source": [
    "#check the reshape did not break the order of data\n",
    "diff=torch.empty(size=(14,1))\n",
    "for i in range(13):\n",
    "    diff[i]=sum(sum(pred[0+i*2:2+i*2,]-test_pred_x_raw.output.prediction[i,...])).cpu()\n",
    "sum(diff)"
   ]
  },
  {
   "cell_type": "code",
   "execution_count": 37,
   "id": "e007a9e5",
   "metadata": {},
   "outputs": [],
   "source": [
    "time_idx=test_pred_x_raw.x[\"decoder_time_idx\"].reshape(-1, 1)"
   ]
  },
  {
   "cell_type": "code",
   "execution_count": null,
   "id": "5345126b",
   "metadata": {},
   "outputs": [
    {
     "data": {
      "text/plain": [
       "torch.Size([28, 8])"
      ]
     },
     "execution_count": 42,
     "metadata": {},
     "output_type": "execute_result"
    }
   ],
   "source": [
    "pred=torch.cat((time_idx, pred), dim=1) #add the time index of the predictions as col=0\n",
    "pred.shape"
   ]
  },
  {
   "cell_type": "code",
   "execution_count": 47,
   "id": "010be148",
   "metadata": {},
   "outputs": [
    {
     "data": {
      "text/plain": [
       "tensor([[85.0000,  0.9963,  0.9976,  0.9977,  0.9986,  0.9990,  1.0012,  1.0040],\n",
       "        [86.0000,  0.9963,  0.9975,  0.9976,  0.9986,  0.9990,  1.0013,  1.0041],\n",
       "        [86.0000,  0.9944,  0.9960,  0.9961,  0.9974,  0.9978,  1.0006,  1.0040],\n",
       "        [87.0000,  0.9945,  0.9959,  0.9960,  0.9974,  0.9978,  1.0006,  1.0041],\n",
       "        [87.0000,  0.9922,  0.9941,  0.9942,  0.9957,  0.9962,  0.9995,  1.0036],\n",
       "        [88.0000,  0.9923,  0.9940,  0.9941,  0.9957,  0.9963,  0.9996,  1.0036],\n",
       "        [88.0000,  0.9895,  0.9917,  0.9918,  0.9936,  0.9942,  0.9980,  1.0027],\n",
       "        [89.0000,  0.9896,  0.9916,  0.9917,  0.9936,  0.9943,  0.9981,  1.0028],\n",
       "        [89.0000,  0.9864,  0.9889,  0.9891,  0.9911,  0.9917,  0.9961,  1.0015],\n",
       "        [90.0000,  0.9866,  0.9888,  0.9890,  0.9911,  0.9919,  0.9963,  1.0015],\n",
       "        [90.0000,  0.9830,  0.9857,  0.9859,  0.9882,  0.9889,  0.9938,  0.9998],\n",
       "        [91.0000,  0.9831,  0.9856,  0.9858,  0.9883,  0.9890,  0.9940,  0.9999],\n",
       "        [91.0000,  0.9791,  0.9822,  0.9823,  0.9849,  0.9857,  0.9911,  0.9977],\n",
       "        [92.0000,  0.9793,  0.9820,  0.9822,  0.9850,  0.9858,  0.9913,  0.9978],\n",
       "        [92.0000,  0.9748,  0.9782,  0.9784,  0.9812,  0.9821,  0.9880,  0.9953],\n",
       "        [93.0000,  0.9750,  0.9780,  0.9782,  0.9813,  0.9822,  0.9882,  0.9954],\n",
       "        [93.0000,  0.9702,  0.9738,  0.9740,  0.9771,  0.9780,  0.9845,  0.9924],\n",
       "        [94.0000,  0.9703,  0.9736,  0.9739,  0.9772,  0.9782,  0.9847,  0.9925],\n",
       "        [94.0000,  0.9651,  0.9690,  0.9693,  0.9726,  0.9736,  0.9806,  0.9891],\n",
       "        [95.0000,  0.9653,  0.9688,  0.9691,  0.9727,  0.9738,  0.9808,  0.9892],\n",
       "        [95.0000,  0.9597,  0.9638,  0.9641,  0.9677,  0.9688,  0.9763,  0.9854],\n",
       "        [96.0000,  0.9598,  0.9636,  0.9639,  0.9678,  0.9690,  0.9765,  0.9856],\n",
       "        [96.0000,  0.9538,  0.9583,  0.9586,  0.9624,  0.9636,  0.9716,  0.9814],\n",
       "        [97.0000,  0.9540,  0.9580,  0.9584,  0.9625,  0.9638,  0.9719,  0.9815],\n",
       "        [97.0000,  0.9476,  0.9523,  0.9526,  0.9567,  0.9580,  0.9665,  0.9769],\n",
       "        [98.0000,  0.9478,  0.9521,  0.9524,  0.9568,  0.9582,  0.9668,  0.9770],\n",
       "        [98.0000,  0.9409,  0.9460,  0.9463,  0.9506,  0.9520,  0.9611,  0.9720],\n",
       "        [99.0000,  0.9412,  0.9457,  0.9461,  0.9507,  0.9522,  0.9613,  0.9722]],\n",
       "       device='cuda:0')"
      ]
     },
     "execution_count": 47,
     "metadata": {},
     "output_type": "execute_result"
    }
   ],
   "source": [
    "pred"
   ]
  },
  {
   "cell_type": "code",
   "execution_count": 49,
   "id": "5af832ad",
   "metadata": {},
   "outputs": [],
   "source": [
    "#create a function to get the avg of the duplicate rows\n",
    "def average_duplicate_rows(tensor, column_index):\n",
    "    \"\"\"\n",
    "    Calculates the average of other columns for duplicate rows based on values in a specified column.\n",
    "\n",
    "    Args:\n",
    "        tensor: A 2D PyTorch tensor.\n",
    "        column_index: The index of the column used for identifying duplicate rows.\n",
    "\n",
    "    Returns:\n",
    "        A new tensor with averaged rows.\n",
    "    \"\"\"\n",
    "\n",
    "    if tensor.ndim != 2:\n",
    "      raise ValueError(\"Input tensor must be 2D.\")\n",
    "    \n",
    "    if column_index >= tensor.shape[1]:\n",
    "        raise IndexError(\"column_index out of range\")\n",
    "    \n",
    "    # Convert to NumPy array for easier manipulation\n",
    "    tensor_np = tensor.numpy()\n",
    "\n",
    "    # Get unique values in the specified column and their indices\n",
    "    unique_values, inverse_indices = torch.unique(tensor[:, column_index], return_inverse=True)\n",
    "    unique_values = unique_values.numpy()\n",
    "    inverse_indices = inverse_indices.numpy()\n",
    "\n",
    "    # Create a dictionary to store rows for each unique value\n",
    "    grouped_rows = {}\n",
    "    for i, val in enumerate(inverse_indices):\n",
    "        if val not in grouped_rows:\n",
    "          grouped_rows[val] = []\n",
    "        grouped_rows[val].append(tensor_np[i])\n",
    "\n",
    "    # Calculate the average of other columns for each group\n",
    "    averaged_rows = []\n",
    "    for _, rows in grouped_rows.items():\n",
    "        rows = torch.tensor(rows) #convert list of rows to tensor\n",
    "        averaged_row = rows.mean(dim=0)\n",
    "        averaged_rows.append(averaged_row)\n",
    "    \n",
    "    averaged_rows = torch.stack(averaged_rows)\n",
    "\n",
    "    return averaged_rows"
   ]
  },
  {
   "cell_type": "code",
   "execution_count": 51,
   "id": "15f7c1f4",
   "metadata": {},
   "outputs": [
    {
     "data": {
      "text/plain": [
       "torch.Size([15, 8])"
      ]
     },
     "execution_count": 51,
     "metadata": {},
     "output_type": "execute_result"
    }
   ],
   "source": [
    "pred_avg = average_duplicate_rows(pred.cpu(), 0)\n",
    "pred_avg.shape"
   ]
  },
  {
   "cell_type": "code",
   "execution_count": null,
   "id": "b86f6579",
   "metadata": {},
   "outputs": [
    {
     "data": {
      "text/plain": [
       "torch.Size([15, 7])"
      ]
     },
     "execution_count": 63,
     "metadata": {},
     "output_type": "execute_result"
    }
   ],
   "source": [
    "pred_plot=pred_avg[:, 1:] #remove the time index column\n",
    "pred_plot.shape"
   ]
  },
  {
   "cell_type": "code",
   "execution_count": 64,
   "id": "da9275cf",
   "metadata": {},
   "outputs": [
    {
     "data": {
      "text/plain": [
       "tensor([[0.9963, 0.9976, 0.9977, 0.9986, 0.9990, 1.0012, 1.0040],\n",
       "        [0.9954, 0.9968, 0.9969, 0.9980, 0.9984, 1.0009, 1.0040],\n",
       "        [0.9933, 0.9950, 0.9951, 0.9965, 0.9970, 1.0001, 1.0038],\n",
       "        [0.9909, 0.9928, 0.9930, 0.9946, 0.9952, 0.9988, 1.0032],\n",
       "        [0.9880, 0.9902, 0.9904, 0.9924, 0.9930, 0.9971, 1.0021],\n",
       "        [0.9848, 0.9873, 0.9874, 0.9897, 0.9904, 0.9950, 1.0007],\n",
       "        [0.9811, 0.9839, 0.9841, 0.9866, 0.9874, 0.9926, 0.9988],\n",
       "        [0.9770, 0.9801, 0.9803, 0.9831, 0.9840, 0.9897, 0.9965],\n",
       "        [0.9726, 0.9759, 0.9761, 0.9792, 0.9801, 0.9864, 0.9939],\n",
       "        [0.9677, 0.9713, 0.9716, 0.9749, 0.9759, 0.9827, 0.9908],\n",
       "        [0.9625, 0.9663, 0.9666, 0.9702, 0.9713, 0.9786, 0.9873],\n",
       "        [0.9568, 0.9610, 0.9612, 0.9651, 0.9663, 0.9741, 0.9835],\n",
       "        [0.9508, 0.9552, 0.9555, 0.9596, 0.9609, 0.9692, 0.9792],\n",
       "        [0.9444, 0.9490, 0.9494, 0.9537, 0.9551, 0.9639, 0.9745],\n",
       "        [0.9412, 0.9457, 0.9461, 0.9507, 0.9522, 0.9613, 0.9722]])"
      ]
     },
     "execution_count": 64,
     "metadata": {},
     "output_type": "execute_result"
    }
   ],
   "source": [
    "pred_plot"
   ]
  },
  {
   "cell_type": "code",
   "execution_count": 58,
   "id": "4b5a4c41",
   "metadata": {},
   "outputs": [],
   "source": [
    "# --- Define Quantile Labels based on SPECIFIC_QUANTILE_LEVELS ---\n",
    "# These labels will be passed to the plotting function.\n",
    "SPECIFIC_QUANTILE_LEVELS= [0.02, 0.1, 0.25, 0.5, 0.75, 0.9, 0.98] # The quantile levels used in the model\n",
    "\n",
    "# The function can also generate them if quantile_levels are passed.\n",
    "# Order: Outermost, Middle, Innermost\n",
    "pi_outer_label = f\"{(SPECIFIC_QUANTILE_LEVELS[6] - SPECIFIC_QUANTILE_LEVELS[0])*100:.0f}% PI ({SPECIFIC_QUANTILE_LEVELS[0]:.2f}-{SPECIFIC_QUANTILE_LEVELS[6]:.2f})\"\n",
    "pi_mid_label = f\"{(SPECIFIC_QUANTILE_LEVELS[5] - SPECIFIC_QUANTILE_LEVELS[1])*100:.0f}% PI ({SPECIFIC_QUANTILE_LEVELS[1]:.2f}-{SPECIFIC_QUANTILE_LEVELS[5]:.2f})\"\n",
    "pi_inner_label = f\"{(SPECIFIC_QUANTILE_LEVELS[4] - SPECIFIC_QUANTILE_LEVELS[2])*100:.0f}% PI ({SPECIFIC_QUANTILE_LEVELS[2]:.2f}-{SPECIFIC_QUANTILE_LEVELS[4]:.2f})\"\n",
    "    \n",
    "# The order in custom_labels MUST match the order of plotting fill_between\n",
    "# which is from outermost to innermost (j=0 to num_features//2 - 1)\n",
    "custom_interval_labels = [pi_outer_label, pi_mid_label, pi_inner_label]"
   ]
  },
  {
   "cell_type": "code",
   "execution_count": 66,
   "id": "c8859b43",
   "metadata": {},
   "outputs": [
    {
     "name": "stdout",
     "output_type": "stream",
     "text": [
      "Tensor1 (predictions) shape: torch.Size([15, 7])\n",
      "Tensor2 (actuals) shape: torch.Size([15])\n",
      "Quantile levels being plotted: [0.02, 0.1, 0.25, 0.5, 0.75, 0.9, 0.98]\n"
     ]
    },
    {
     "data": {
      "image/png": "[encoded data removed]",
      "text/plain": [
       "<Figure size 1200x600 with 1 Axes>"
      ]
     },
     "metadata": {},
     "output_type": "display_data"
    }
   ],
   "source": [
    "# --- Plot the Tensors ---\n",
    "print(f\"Tensor1 (predictions) shape: {pred_plot.shape}\")\n",
    "print(f\"Tensor2 (actuals) shape: {test_plot.shape}\")\n",
    "print(f\"Quantile levels being plotted: {SPECIFIC_QUANTILE_LEVELS}\")\n",
    "\n",
    "plot_single_timeseries_quantile_predictions(\n",
    "    pred_plot,\n",
    "    test_plot,\n",
    "    quantile_levels=SPECIFIC_QUANTILE_LEVELS,\n",
    "    quantile_labels=custom_interval_labels, # Pass the correctly ordered labels\n",
    "    title=\"Sample Time Series Prediction with Quantiles\"\n",
    ")"
   ]
  }
 ],
 "metadata": {
  "kernelspec": {
   "display_name": "Python (myenv)",
   "language": "python",
   "name": "myenv"
  },
  "language_info": {
   "codemirror_mode": {
    "name": "ipython",
    "version": 3
   },
   "file_extension": ".py",
   "mimetype": "text/x-python",
   "name": "python",
   "nbconvert_exporter": "python",
   "pygments_lexer": "ipython3",
   "version": "3.12.9"
  }
 },
 "nbformat": 4,
 "nbformat_minor": 5
}
