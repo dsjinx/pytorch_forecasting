{
 "cells": [
  {
   "cell_type": "code",
   "execution_count": null,
   "id": "2ede437d",
   "metadata": {},
   "outputs": [
    {
     "name": "stdout",
     "output_type": "stream",
     "text": [
      "Current Working Directory: /home/daokedao999/.local/share/jupyter/kernels/myenv\n"
     ]
    },
    {
     "name": "stderr",
     "output_type": "stream",
     "text": [
      "/home/daokedao999/miniconda3/lib/python3.12/site-packages/pytorch_forecasting/models/base_model.py:27: TqdmWarning: IProgress not found. Please update jupyter and ipywidgets. See https://ipywidgets.readthedocs.io/en/stable/user_install.html\n",
      "  from tqdm.autonotebook import tqdm\n"
     ]
    }
   ],
   "source": [
    "import os\n",
    "import numpy as np\n",
    "import pandas as pd\n",
    "\n",
    "import lightning.pytorch as pl\n",
    "import torch\n",
    "\n",
    "from lightning.pytorch.tuner import Tuner\n",
    "from lightning.pytorch.callbacks import EarlyStopping, LearningRateMonitor\n",
    "from lightning.pytorch.loggers import TensorBoardLogger\n",
    "from tensorboard import program\n",
    "from pytorch_forecasting import Baseline, TemporalFusionTransformer, TimeSeriesDataSet\n",
    "from pytorch_forecasting.data import EncoderNormalizer\n",
    "from pytorch_forecasting.metrics import QuantileLoss, MAE, SMAPE #, PoissonLoss\n",
    "\n",
    "import matplotlib.pyplot as plt\n",
    "import seaborn as sns\n",
    "\n",
    "import warnings\n",
    "warnings.filterwarnings(\"ignore\")\n",
    "\n",
    "import os\n",
    "print(\"Current Working Directory:\", os.getcwd())"
   ]
  },
  {
   "cell_type": "code",
   "execution_count": 2,
   "id": "3d77e925",
   "metadata": {},
   "outputs": [
    {
     "name": "stdout",
     "output_type": "stream",
     "text": [
      "   time_idx      vals  group_ids\n",
      "0         0  0.000000         66\n",
      "1         1  0.020201         66\n",
      "2         2  0.040393         66\n",
      "3         3  0.060569         66\n",
      "4         4  0.080720         66\n",
      "5         5  0.100838         66\n",
      "6         6  0.120916         66\n",
      "7         7  0.140943         66\n",
      "8         8  0.160914         66\n",
      "9         9  0.180818         66\n",
      "(100, 3)\n",
      "time_idx       int64\n",
      "vals         float64\n",
      "group_ids      int64\n",
      "dtype: object\n"
     ]
    }
   ],
   "source": [
    "# Create the 'time_idx' column with incremental values from 0 to 99\n",
    "time_idx = np.arange(100)\n",
    "\n",
    "# Create the 'values' column with values representing a sine wave\n",
    "time_points = np.linspace(0, 2, 100)\n",
    "values = np.sin(time_points)\n",
    "\n",
    "# Create the 'group_ids' column with a constant value of 66\n",
    "#group1 = np.full(50, 11)\n",
    "#group2 = np.full(30, 22)\n",
    "#group3 = np.full(20, 33)\n",
    "\n",
    "#group_ids = np.concatenate((group1, group2, group3), axis = 0)\n",
    "\n",
    "# Combine the columns into a dictionary\n",
    "data = {'time_idx': time_idx, 'vals': values, 'group_ids': 66}\n",
    "\n",
    "# Create the DataFrame\n",
    "df = pd.DataFrame(data)\n",
    "\n",
    "# Print the DataFrame\n",
    "print(df.head(10))\n",
    "print(df.shape)\n",
    "print(df.dtypes)"
   ]
  },
  {
   "cell_type": "code",
   "execution_count": 3,
   "id": "5a4be66e",
   "metadata": {},
   "outputs": [
    {
     "name": "stdout",
     "output_type": "stream",
     "text": [
      "\n",
      "train_df shape: (50, 3)\n",
      "val_df shape: (30, 3)\n",
      "test_df shape: (20, 3)\n",
      "\n"
     ]
    }
   ],
   "source": [
    "#data slicing\n",
    "training_cutoff = 50\n",
    "train_df = df[lambda x: x.time_idx < training_cutoff]\n",
    "val_df = df[lambda x: (x.time_idx >= training_cutoff) & (x.time_idx < 80)]\n",
    "test_df = df[lambda x: x.time_idx >= 80]\n",
    "\n",
    "print(f\"\"\"\n",
    "train_df shape: {train_df.shape}\n",
    "val_df shape: {val_df.shape}\n",
    "test_df shape: {test_df.shape}\n",
    "\"\"\")"
   ]
  },
  {
   "cell_type": "code",
   "execution_count": 4,
   "id": "44fba0ab",
   "metadata": {},
   "outputs": [
    {
     "name": "stdout",
     "output_type": "stream",
     "text": [
      "check any NaN in the data:\n",
      "        train_df: False\n",
      "        val_df: False\n",
      "        test_df: False\n",
      "        \n"
     ]
    }
   ],
   "source": [
    "print(f\"\"\"check any NaN in the data:\n",
    "        train_df: {train_df.isna().any().any()}\n",
    "        val_df: {val_df.isna().any().any()}\n",
    "        test_df: {test_df.isna().any().any()}\n",
    "        \"\"\")"
   ]
  },
  {
   "cell_type": "code",
   "execution_count": 5,
   "id": "2300f2d2",
   "metadata": {},
   "outputs": [
    {
     "name": "stdout",
     "output_type": "stream",
     "text": [
      "any inf in data:\n",
      "        train_df: False\n",
      "        val_df: False\n",
      "        test_df: False\n",
      "        \n"
     ]
    }
   ],
   "source": [
    "print(f\"\"\"any inf in data:\n",
    "        train_df: {train_df.isin([-np.inf, np.inf]).any().any()}\n",
    "        val_df: {val_df.isin([-np.inf, np.inf]).any().any()}\n",
    "        test_df: {test_df.isin([-np.inf, np.inf]).any().any()}\n",
    "        \"\"\")"
   ]
  },
  {
   "cell_type": "code",
   "execution_count": null,
   "id": "02076803",
   "metadata": {},
   "outputs": [],
   "source": [
    "# Create the TimeSeriesDataSet\n",
    "train_dataset = TimeSeriesDataSet(\n",
    "    train_df,\n",
    "    group_ids=[\"group_ids\"],\n",
    "    target=\"vals\",\n",
    "    time_idx=\"time_idx\",\n",
    "    max_encoder_length = 5,\n",
    "    max_prediction_length = 2,\n",
    "    time_varying_unknown_reals=[\"vals\"],\n",
    "    target_normalizer=EncoderNormalizer(transformation=\"softplus\")\n",
    ")"
   ]
  },
  {
   "cell_type": "code",
   "execution_count": 7,
   "id": "a72b7a06",
   "metadata": {},
   "outputs": [],
   "source": [
    "val_dataset = TimeSeriesDataSet.from_dataset(\n",
    "    train_dataset,\n",
    "    val_df\n",
    ")\n",
    "test_dataset = TimeSeriesDataSet.from_dataset(\n",
    "    train_dataset,\n",
    "    test_df\n",
    ")"
   ]
  },
  {
   "cell_type": "code",
   "execution_count": null,
   "id": "efc83835",
   "metadata": {},
   "outputs": [],
   "source": [
    "train_dataloader = train_dataset.to_dataloader(\n",
    "    train=False, #keep the \"train=False\" is to sliding through the whole dataset\n",
    "    batch_size=100 #make the \"batch size\" >> than the dataset size is to align with the sliding window effect\n",
    ")\n",
    "val_dataloader = val_dataset.to_dataloader(\n",
    "    train=False,\n",
    "    batch_size=100\n",
    ")\n",
    "test_dataloader = test_dataset.to_dataloader(\n",
    "    train=False,\n",
    "    batch_size=100\n",
    ")"
   ]
  },
  {
   "cell_type": "code",
   "execution_count": 9,
   "id": "678b8f66",
   "metadata": {},
   "outputs": [
    {
     "name": "stderr",
     "output_type": "stream",
     "text": [
      "Seed set to 666\n",
      "Using default `ModelCheckpoint`. Consider installing `litmodels` package to enable `LitModelCheckpoint` for automatic upload to the Lightning model registry.\n",
      "GPU available: True (cuda), used: True\n",
      "TPU available: False, using: 0 TPU cores\n",
      "HPU available: False, using: 0 HPUs\n"
     ]
    },
    {
     "name": "stdout",
     "output_type": "stream",
     "text": [
      "Number of parameters in network: 5.267k\n"
     ]
    }
   ],
   "source": [
    "pl.seed_everything(666)\n",
    "\n",
    "lr_tune_logger = TensorBoardLogger(save_dir = \"\", version = \"lr\")  # logging results to the current pwd\n",
    "lr_early_stop_callback = EarlyStopping(\n",
    "    monitor=\"val_loss\", min_delta=1e-4, patience=10, mode=\"min\"\n",
    ")\n",
    "\n",
    "#set up trainer for tunning\n",
    "lr_trainer = pl.Trainer(\n",
    "    accelerator = \"gpu\",\n",
    "    devices = \"auto\",\n",
    "    gradient_clip_val = 0.1,\n",
    "    #fast_dev_run=True,  # comment in for debugging, only 1 training and 1 validation batch to run\n",
    "    callbacks=[lr_early_stop_callback],\n",
    "    logger = lr_tune_logger #if the logger is not set, the default loger will be saved under default name = version_0\n",
    ")\n",
    "\n",
    "#set up tft for tunning \n",
    "tft_tuner = TemporalFusionTransformer.from_dataset(\n",
    "    train_dataset,\n",
    "    # dummy lr required for the following lr_finder initiation\n",
    "    learning_rate = 0.06,\n",
    "    hidden_size = 8,  # most important hyperparameter apart from learning rate\n",
    "    lstm_layers = 2,  # set to 2 or 3 for large datasets\n",
    "    # number of attention heads. Set to up to 4 for large datasets\n",
    "    attention_head_size = 2,\n",
    "    dropout = 0.1,  # between 0.1 and 0.3 are good values\n",
    "    loss = QuantileLoss(), \n",
    "    #quantiles = [0.02, 0.1, 0.25, 0.5, 0.75, 0.9, 0.98] as defined in `pytorch_forecasting.metrics.quantile.QuantileLoss` source code\n",
    "    reduce_on_plateau_patience = 100\n",
    ")\n",
    "print(f\"Number of parameters in network: {tft_tuner.size() / 1e3:.3f}k\")"
   ]
  },
  {
   "cell_type": "code",
   "execution_count": 10,
   "id": "7793359e",
   "metadata": {},
   "outputs": [
    {
     "name": "stderr",
     "output_type": "stream",
     "text": [
      "LOCAL_RANK: 0 - CUDA_VISIBLE_DEVICES: [0]\n",
      "Finding best initial lr: 100%|██████████| 100/100 [01:02<00:00,  1.55it/s]`Trainer.fit` stopped: `max_steps=100` reached.\n",
      "Finding best initial lr: 100%|██████████| 100/100 [01:02<00:00,  1.60it/s]\n",
      "Learning rate set to 0.012589254117941664\n",
      "Restoring states from the checkpoint path at /home/daokedao999/.local/share/jupyter/kernels/myenv/.lr_find_f4b3ccbf-15f1-4b4c-9433-b31de25d3348.ckpt\n",
      "Restored all states from the checkpoint at /home/daokedao999/.local/share/jupyter/kernels/myenv/.lr_find_f4b3ccbf-15f1-4b4c-9433-b31de25d3348.ckpt\n"
     ]
    },
    {
     "name": "stdout",
     "output_type": "stream",
     "text": [
      "suggested learning rate: 0.012589254117941664\n"
     ]
    },
    {
     "data": {
      "image/png": "[encoded data removed]",
      "text/plain": [
       "<Figure size 640x480 with 1 Axes>"
      ]
     },
     "metadata": {},
     "output_type": "display_data"
    }
   ],
   "source": [
    "# learning rate optimization\n",
    "lr_tuner = Tuner(lr_trainer).lr_find(\n",
    "    tft_tuner,\n",
    "    train_dataloaders = train_dataloader,\n",
    "    val_dataloaders = val_dataloader,\n",
    "    max_lr = 0.1,\n",
    "    min_lr = 1e-6,\n",
    ")\n",
    "\n",
    "print(f\"suggested learning rate: {lr_tuner.suggestion()}\")\n",
    "fig = lr_tuner.plot(show=True, suggest=True)\n",
    "fig.show()"
   ]
  },
  {
   "cell_type": "code",
   "execution_count": 11,
   "id": "00f75789",
   "metadata": {},
   "outputs": [
    {
     "name": "stderr",
     "output_type": "stream",
     "text": [
      "Using default `ModelCheckpoint`. Consider installing `litmodels` package to enable `LitModelCheckpoint` for automatic upload to the Lightning model registry.\n",
      "GPU available: True (cuda), used: True\n",
      "TPU available: False, using: 0 TPU cores\n",
      "HPU available: False, using: 0 HPUs\n"
     ]
    },
    {
     "name": "stdout",
     "output_type": "stream",
     "text": [
      "Number of parameters in network: 5.267k\n"
     ]
    }
   ],
   "source": [
    "#set up trainer for training\n",
    "logger = TensorBoardLogger(save_dir = \"\", version = \"train\")  # logging results to the current pwd\n",
    "early_stop_callback = EarlyStopping(\n",
    "    monitor=\"val_loss\", min_delta=1e-4, patience=10, mode=\"min\"\n",
    ")\n",
    "\n",
    "trainer = pl.Trainer(\n",
    "    accelerator = \"gpu\",\n",
    "    devices = -1,\n",
    "    gradient_clip_val = 0.1,\n",
    "    #fast_dev_run=True,  # comment in for debugging, only 1 training and 1 validation batch to run\n",
    "    callbacks=[early_stop_callback],\n",
    "    logger = logger,\n",
    ")\n",
    "\n",
    "#set up tft for taining\n",
    "tft = TemporalFusionTransformer.from_dataset(\n",
    "    train_dataset,\n",
    "    # not meaningful for finding the learning rate but otherwise very important\n",
    "    learning_rate = lr_tuner.suggestion(),\n",
    "    hidden_size = 8,  # most important hyperparameter apart from learning rate\n",
    "    # number of attention heads. Set to up to 4 for large datasets\n",
    "    attention_head_size = 2,\n",
    "    lstm_layers = 2,  # set to 2 or 3 for large datasets\n",
    "    dropout = 0.1,  # between 0.1 and 0.3 are good values\n",
    "    loss = QuantileLoss(),\n",
    "    reduce_on_plateau_patience = 100\n",
    ")\n",
    "print(f\"Number of parameters in network: {tft.size() / 1e3:.3f}k\") "
   ]
  },
  {
   "cell_type": "code",
   "execution_count": 12,
   "id": "611c5baa",
   "metadata": {},
   "outputs": [
    {
     "name": "stderr",
     "output_type": "stream",
     "text": [
      "LOCAL_RANK: 0 - CUDA_VISIBLE_DEVICES: [0]\n",
      "\n",
      "   | Name                               | Type                            | Params | Mode \n",
      "------------------------------------------------------------------------------------------------\n",
      "0  | loss                               | QuantileLoss                    | 0      | train\n",
      "1  | logging_metrics                    | ModuleList                      | 0      | train\n",
      "2  | input_embeddings                   | MultiEmbedding                  | 0      | train\n",
      "3  | prescalers                         | ModuleDict                      | 16     | train\n",
      "4  | static_variable_selection          | VariableSelectionNetwork        | 0      | train\n",
      "5  | encoder_variable_selection         | VariableSelectionNetwork        | 320    | train\n",
      "6  | decoder_variable_selection         | VariableSelectionNetwork        | 0      | train\n",
      "7  | static_context_variable_selection  | GatedResidualNetwork            | 304    | train\n",
      "8  | static_context_initial_hidden_lstm | GatedResidualNetwork            | 304    | train\n",
      "9  | static_context_initial_cell_lstm   | GatedResidualNetwork            | 304    | train\n",
      "10 | static_context_enrichment          | GatedResidualNetwork            | 304    | train\n",
      "11 | lstm_encoder                       | LSTM                            | 1.2 K  | train\n",
      "12 | lstm_decoder                       | LSTM                            | 1.2 K  | train\n",
      "13 | post_lstm_gate_encoder             | GatedLinearUnit                 | 144    | train\n",
      "14 | post_lstm_add_norm_encoder         | AddNorm                         | 16     | train\n",
      "15 | static_enrichment                  | GatedResidualNetwork            | 368    | train\n",
      "16 | multihead_attn                     | InterpretableMultiHeadAttention | 212    | train\n",
      "17 | post_attn_gate_norm                | GateAddNorm                     | 160    | train\n",
      "18 | pos_wise_ff                        | GatedResidualNetwork            | 304    | train\n",
      "19 | pre_output_gate_norm               | GateAddNorm                     | 160    | train\n",
      "20 | output_layer                       | Linear                          | 63     | train\n",
      "------------------------------------------------------------------------------------------------\n",
      "5.3 K     Trainable params\n",
      "0         Non-trainable params\n",
      "5.3 K     Total params\n",
      "0.021     Total estimated model params size (MB)\n",
      "124       Modules in train mode\n",
      "0         Modules in eval mode\n"
     ]
    },
    {
     "name": "stdout",
     "output_type": "stream",
     "text": [
      "Epoch 34: 100%|██████████| 1/1 [00:00<00:00,  1.13it/s, v_num=rain, train_loss_step=0.0225, val_loss=0.0044, train_loss_epoch=0.0225] \n"
     ]
    }
   ],
   "source": [
    "# fit network\n",
    "trainer.fit(\n",
    "    tft,\n",
    "    train_dataloaders = train_dataloader,\n",
    "    val_dataloaders = val_dataloader\n",
    ")"
   ]
  },
  {
   "cell_type": "code",
   "execution_count": null,
   "id": "c5aac690",
   "metadata": {},
   "outputs": [],
   "source": [
    "#open tensorboard to check the results\n",
    "tb = program.TensorBoard()\n",
    "tb.configure(argv=[None, '--logdir', 'lightning_logs', '--port', '6006'])\n",
    "print(\"TensorBoard running at http://localhost:6006/\")\n",
    "tb.main()"
   ]
  },
  {
   "cell_type": "code",
   "execution_count": 13,
   "id": "68297b81",
   "metadata": {},
   "outputs": [],
   "source": [
    "#load the best model according to the validation loss\n",
    "best_model_path = trainer.checkpoint_callback.best_model_path\n",
    "best_tft = TemporalFusionTransformer.load_from_checkpoint(best_model_path)"
   ]
  },
  {
   "cell_type": "code",
   "execution_count": 14,
   "id": "cec186c0",
   "metadata": {},
   "outputs": [
    {
     "name": "stderr",
     "output_type": "stream",
     "text": [
      "LOCAL_RANK: 0 - CUDA_VISIBLE_DEVICES: [0]\n"
     ]
    },
    {
     "name": "stdout",
     "output_type": "stream",
     "text": [
      "Validation DataLoader 0: 100%|██████████| 1/1 [00:00<00:00,  1.82it/s]\n"
     ]
    },
    {
     "data": {
      "text/html": [
       "<pre style=\"white-space:pre;overflow-x:auto;line-height:normal;font-family:Menlo,'DejaVu Sans Mono',consolas,'Courier New',monospace\">┏━━━━━━━━━━━━━━━━━━━━━━━━━━━┳━━━━━━━━━━━━━━━━━━━━━━━━━━━┓\n",
       "┃<span style=\"font-weight: bold\">      Validate metric      </span>┃<span style=\"font-weight: bold\">       DataLoader 0        </span>┃\n",
       "┡━━━━━━━━━━━━━━━━━━━━━━━━━━━╇━━━━━━━━━━━━━━━━━━━━━━━━━━━┩\n",
       "│<span style=\"color: #008080; text-decoration-color: #008080\">          val_MAE          </span>│<span style=\"color: #800080; text-decoration-color: #800080\">     0.008423394523561     </span>│\n",
       "│<span style=\"color: #008080; text-decoration-color: #008080\">         val_MAPE          </span>│<span style=\"color: #800080; text-decoration-color: #800080\">   0.008875485509634018    </span>│\n",
       "│<span style=\"color: #008080; text-decoration-color: #008080\">         val_RMSE          </span>│<span style=\"color: #800080; text-decoration-color: #800080\">   0.010106625035405159    </span>│\n",
       "│<span style=\"color: #008080; text-decoration-color: #008080\">         val_SMAPE         </span>│<span style=\"color: #800080; text-decoration-color: #800080\">   0.008933818899095058    </span>│\n",
       "│<span style=\"color: #008080; text-decoration-color: #008080\">         val_loss          </span>│<span style=\"color: #800080; text-decoration-color: #800080\">    0.00440498860552907    </span>│\n",
       "└───────────────────────────┴───────────────────────────┘\n",
       "</pre>\n"
      ],
      "text/plain": [
       "┏━━━━━━━━━━━━━━━━━━━━━━━━━━━┳━━━━━━━━━━━━━━━━━━━━━━━━━━━┓\n",
       "┃\u001b[1m \u001b[0m\u001b[1m     Validate metric     \u001b[0m\u001b[1m \u001b[0m┃\u001b[1m \u001b[0m\u001b[1m      DataLoader 0       \u001b[0m\u001b[1m \u001b[0m┃\n",
       "┡━━━━━━━━━━━━━━━━━━━━━━━━━━━╇━━━━━━━━━━━━━━━━━━━━━━━━━━━┩\n",
       "│\u001b[36m \u001b[0m\u001b[36m         val_MAE         \u001b[0m\u001b[36m \u001b[0m│\u001b[35m \u001b[0m\u001b[35m    0.008423394523561    \u001b[0m\u001b[35m \u001b[0m│\n",
       "│\u001b[36m \u001b[0m\u001b[36m        val_MAPE         \u001b[0m\u001b[36m \u001b[0m│\u001b[35m \u001b[0m\u001b[35m  0.008875485509634018   \u001b[0m\u001b[35m \u001b[0m│\n",
       "│\u001b[36m \u001b[0m\u001b[36m        val_RMSE         \u001b[0m\u001b[36m \u001b[0m│\u001b[35m \u001b[0m\u001b[35m  0.010106625035405159   \u001b[0m\u001b[35m \u001b[0m│\n",
       "│\u001b[36m \u001b[0m\u001b[36m        val_SMAPE        \u001b[0m\u001b[36m \u001b[0m│\u001b[35m \u001b[0m\u001b[35m  0.008933818899095058   \u001b[0m\u001b[35m \u001b[0m│\n",
       "│\u001b[36m \u001b[0m\u001b[36m        val_loss         \u001b[0m\u001b[36m \u001b[0m│\u001b[35m \u001b[0m\u001b[35m   0.00440498860552907   \u001b[0m\u001b[35m \u001b[0m│\n",
       "└───────────────────────────┴───────────────────────────┘\n"
      ]
     },
     "metadata": {},
     "output_type": "display_data"
    },
    {
     "data": {
      "text/plain": [
       "[{'val_loss': 0.00440498860552907,\n",
       "  'val_SMAPE': 0.008933818899095058,\n",
       "  'val_MAE': 0.008423394523561,\n",
       "  'val_RMSE': 0.010106625035405159,\n",
       "  'val_MAPE': 0.008875485509634018}]"
      ]
     },
     "execution_count": 14,
     "metadata": {},
     "output_type": "execute_result"
    }
   ],
   "source": [
    "#check the metrics on val_dataset\n",
    "trainer.validate(best_tft, dataloaders=val_dataloader)#, ckpt_path=best_model_path)\n",
    "#the \"ckpt_path\" argument is not necessary, but it is good practice to load the best model"
   ]
  },
  {
   "cell_type": "code",
   "execution_count": 15,
   "id": "00522c9e",
   "metadata": {},
   "outputs": [
    {
     "name": "stderr",
     "output_type": "stream",
     "text": [
      "Using default `ModelCheckpoint`. Consider installing `litmodels` package to enable `LitModelCheckpoint` for automatic upload to the Lightning model registry.\n",
      "GPU available: True (cuda), used: True\n",
      "TPU available: False, using: 0 TPU cores\n",
      "HPU available: False, using: 0 HPUs\n",
      "LOCAL_RANK: 0 - CUDA_VISIBLE_DEVICES: [0]\n",
      "Using default `ModelCheckpoint`. Consider installing `litmodels` package to enable `LitModelCheckpoint` for automatic upload to the Lightning model registry.\n",
      "GPU available: True (cuda), used: True\n",
      "TPU available: False, using: 0 TPU cores\n",
      "HPU available: False, using: 0 HPUs\n",
      "LOCAL_RANK: 0 - CUDA_VISIBLE_DEVICES: [0]\n"
     ]
    }
   ],
   "source": [
    "test_pred = best_tft.predict(test_dataloader, return_y=True)\n",
    "#test_pred_x = best_tft.predict(test_dataloader, return_x=True)\n",
    "test_pred_x_raw = best_tft.predict(test_dataloader, mode=\"raw\", return_x=True, return_y=True) #incldue the attension weights"
   ]
  },
  {
   "cell_type": "code",
   "execution_count": 89,
   "id": "18b43cbc",
   "metadata": {},
   "outputs": [
    {
     "data": {
      "text/plain": [
       "torch.Size([14, 2])"
      ]
     },
     "execution_count": 89,
     "metadata": {},
     "output_type": "execute_result"
    }
   ],
   "source": [
    "test_pred.output.shape"
   ]
  },
  {
   "cell_type": "code",
   "execution_count": 92,
   "id": "47d31aa0",
   "metadata": {},
   "outputs": [
    {
     "data": {
      "text/plain": [
       "tensor([0.0110, 0.0131, 0.0152, 0.0174, 0.0196, 0.0217, 0.0239, 0.0261, 0.0284,\n",
       "        0.0306, 0.0329, 0.0353, 0.0376, 0.0400], device='cuda:0')"
      ]
     },
     "execution_count": 92,
     "metadata": {},
     "output_type": "execute_result"
    }
   ],
   "source": [
    "SMAPE(reduction=None).loss(test_pred.output,test_pred.y[0]).mean(1) #the \"output\" is the median prediction"
   ]
  },
  {
   "cell_type": "code",
   "execution_count": 45,
   "id": "f1f99f11",
   "metadata": {},
   "outputs": [],
   "source": [
    "for name, _ in test_pred_x_raw.items():\n",
    "    print(f\"items in `test_pred_x_raw`:{name}\")\n",
    "\n",
    "for name, _ in test_pred_x.items():\n",
    "    print(f\"items in `test_pred_x`:{name}\")\n",
    "\n",
    "for name, _ in test_pred.items():\n",
    "    print(f\"items in `test_pred`:{name}\")\n",
    "    "
   ]
  },
  {
   "cell_type": "code",
   "execution_count": null,
   "id": "2b21dd57",
   "metadata": {},
   "outputs": [],
   "source": [
    "test_pred_x_raw #the outputs are quantile predictions comparing the single prediction of \"test_pred\""
   ]
  },
  {
   "cell_type": "code",
   "execution_count": null,
   "id": "5707ca67",
   "metadata": {},
   "outputs": [],
   "source": [
    "test_pred_x_raw.output.prediction.shape #the quantile predictions, the median = test_pred.output\n",
    "#the \"output\" is a dictionary, the \"prediction\" is a tensor with the shape of (batch_size, prediction_length, num_quantiles)\n",
    "#the quantiles = [0.02, 0.1, 0.25, 0.5, 0.75, 0.9, 0.98] as defined in `pytorch_forecasting.metrics.quantile.QuantileLoss` source code"
   ]
  },
  {
   "cell_type": "code",
   "execution_count": 17,
   "id": "a344d22e",
   "metadata": {},
   "outputs": [
    {
     "name": "stdout",
     "output_type": "stream",
     "text": [
      "YES, the output is equal to the median prediction\n"
     ]
    }
   ],
   "source": [
    "#to prove above statement：\n",
    "results = True\n",
    "for b in range(test_pred.output.shape[0]):\n",
    "    results_check = (test_pred_x_raw.output.prediction[b, :, 3] == test_pred.output[b,...]).all()\n",
    "if not results_check:\n",
    "    results = False\n",
    "    print(f\"NO, the output is not equal to the median prediction\")\n",
    "else:\n",
    "    print(f\"YES, the output is equal to the median prediction\")"
   ]
  },
  {
   "cell_type": "code",
   "execution_count": 18,
   "id": "34cf124c",
   "metadata": {},
   "outputs": [
    {
     "data": {
      "text/plain": [
       "Prediction(output=Output(prediction=tensor([[[0.9963, 0.9976, 0.9977, 0.9986, 0.9990, 1.0012, 1.0040],\n",
       "         [0.9963, 0.9975, 0.9976, 0.9986, 0.9990, 1.0013, 1.0041]],\n",
       "\n",
       "        [[0.9944, 0.9960, 0.9961, 0.9974, 0.9978, 1.0006, 1.0040],\n",
       "         [0.9945, 0.9959, 0.9960, 0.9974, 0.9978, 1.0006, 1.0041]],\n",
       "\n",
       "        [[0.9922, 0.9941, 0.9942, 0.9957, 0.9962, 0.9995, 1.0036],\n",
       "         [0.9923, 0.9940, 0.9941, 0.9957, 0.9963, 0.9996, 1.0036]],\n",
       "\n",
       "        [[0.9895, 0.9917, 0.9918, 0.9936, 0.9942, 0.9980, 1.0027],\n",
       "         [0.9896, 0.9916, 0.9917, 0.9936, 0.9943, 0.9981, 1.0028]],\n",
       "\n",
       "        [[0.9864, 0.9889, 0.9891, 0.9911, 0.9917, 0.9961, 1.0015],\n",
       "         [0.9866, 0.9888, 0.9890, 0.9911, 0.9919, 0.9963, 1.0015]],\n",
       "\n",
       "        [[0.9830, 0.9857, 0.9859, 0.9882, 0.9889, 0.9938, 0.9998],\n",
       "         [0.9831, 0.9856, 0.9858, 0.9883, 0.9890, 0.9940, 0.9999]],\n",
       "\n",
       "        [[0.9791, 0.9822, 0.9823, 0.9849, 0.9857, 0.9911, 0.9977],\n",
       "         [0.9793, 0.9820, 0.9822, 0.9850, 0.9858, 0.9913, 0.9978]],\n",
       "\n",
       "        [[0.9748, 0.9782, 0.9784, 0.9812, 0.9821, 0.9880, 0.9953],\n",
       "         [0.9750, 0.9780, 0.9782, 0.9813, 0.9822, 0.9882, 0.9954]],\n",
       "\n",
       "        [[0.9702, 0.9738, 0.9740, 0.9771, 0.9780, 0.9845, 0.9924],\n",
       "         [0.9703, 0.9736, 0.9739, 0.9772, 0.9782, 0.9847, 0.9925]],\n",
       "\n",
       "        [[0.9651, 0.9690, 0.9693, 0.9726, 0.9736, 0.9806, 0.9891],\n",
       "         [0.9653, 0.9688, 0.9691, 0.9727, 0.9738, 0.9808, 0.9892]],\n",
       "\n",
       "        [[0.9597, 0.9638, 0.9641, 0.9677, 0.9688, 0.9763, 0.9854],\n",
       "         [0.9598, 0.9636, 0.9639, 0.9678, 0.9690, 0.9765, 0.9856]],\n",
       "\n",
       "        [[0.9538, 0.9583, 0.9586, 0.9624, 0.9636, 0.9716, 0.9814],\n",
       "         [0.9540, 0.9580, 0.9584, 0.9625, 0.9638, 0.9719, 0.9815]],\n",
       "\n",
       "        [[0.9476, 0.9523, 0.9526, 0.9567, 0.9580, 0.9665, 0.9769],\n",
       "         [0.9478, 0.9521, 0.9524, 0.9568, 0.9582, 0.9668, 0.9770]],\n",
       "\n",
       "        [[0.9409, 0.9460, 0.9463, 0.9506, 0.9520, 0.9611, 0.9720],\n",
       "         [0.9412, 0.9457, 0.9461, 0.9507, 0.9522, 0.9613, 0.9722]]],\n",
       "       device='cuda:0'), encoder_attention=tensor([[[[8.2276e-01, 1.5602e-01, 6.7085e-03, 6.9378e-03, 7.5782e-03],\n",
       "          [9.6867e-01, 2.8728e-02, 6.7175e-04, 8.8526e-04, 1.0408e-03]],\n",
       "\n",
       "         [[7.8920e-01, 1.7229e-01, 7.3008e-03, 7.3333e-03, 7.9205e-03],\n",
       "          [9.6056e-01, 2.8856e-02, 5.8121e-04, 7.5265e-04, 8.8144e-04]]],\n",
       "\n",
       "\n",
       "        [[[8.4395e-01, 1.3451e-01, 6.7714e-03, 7.0750e-03, 7.6986e-03],\n",
       "          [9.7611e-01, 2.1343e-02, 6.6398e-04, 8.6854e-04, 1.0135e-03]],\n",
       "\n",
       "         [[8.1061e-01, 1.5010e-01, 7.3873e-03, 7.5107e-03, 8.0854e-03],\n",
       "          [9.6824e-01, 2.1396e-02, 5.7474e-04, 7.3992e-04, 8.6018e-04]]],\n",
       "\n",
       "\n",
       "        [[[8.5743e-01, 1.2080e-01, 6.8233e-03, 7.1696e-03, 7.7810e-03],\n",
       "          [9.8009e-01, 1.7393e-02, 6.6129e-04, 8.6012e-04, 9.9848e-04]],\n",
       "\n",
       "         [[8.2445e-01, 1.3571e-01, 7.4561e-03, 7.6327e-03, 8.1981e-03],\n",
       "          [9.7234e-01, 1.7402e-02, 5.7254e-04, 7.3363e-04, 8.4860e-04]]],\n",
       "\n",
       "\n",
       "        [[[8.6673e-01, 1.1133e-01, 6.8642e-03, 7.2380e-03, 7.8401e-03],\n",
       "          [9.8253e-01, 1.4970e-02, 6.6035e-04, 8.5519e-04, 9.8905e-04]],\n",
       "\n",
       "         [[8.3410e-01, 1.2566e-01, 7.5096e-03, 7.7208e-03, 8.2790e-03],\n",
       "          [9.7486e-01, 1.4953e-02, 5.7181e-04, 7.3001e-04, 8.4134e-04]]],\n",
       "\n",
       "\n",
       "        [[[8.7345e-01, 1.0448e-01, 6.8962e-03, 7.2889e-03, 7.8837e-03],\n",
       "          [9.8414e-01, 1.3361e-02, 6.6018e-04, 8.5207e-04, 9.8266e-04]],\n",
       "\n",
       "         [[8.4111e-01, 1.1835e-01, 7.5511e-03, 7.7866e-03, 8.3389e-03],\n",
       "          [9.7653e-01, 1.3326e-02, 5.7172e-04, 7.2776e-04, 8.3644e-04]]],\n",
       "\n",
       "\n",
       "        [[[8.7850e-01, 9.9329e-02, 6.9217e-03, 7.3281e-03, 7.9170e-03],\n",
       "          [9.8529e-01, 1.2223e-02, 6.6031e-04, 8.4994e-04, 9.7803e-04]],\n",
       "\n",
       "         [[8.4643e-01, 1.1280e-01, 7.5839e-03, 7.8372e-03, 8.3847e-03],\n",
       "          [9.7771e-01, 1.2177e-02, 5.7187e-04, 7.2626e-04, 8.3290e-04]]],\n",
       "\n",
       "\n",
       "        [[[8.8243e-01, 9.5324e-02, 6.9422e-03, 7.3590e-03, 7.9430e-03],\n",
       "          [9.8614e-01, 1.1381e-02, 6.6058e-04, 8.4843e-04, 9.7454e-04]],\n",
       "\n",
       "         [[8.5057e-01, 1.0848e-01, 7.6104e-03, 7.8772e-03, 8.4208e-03],\n",
       "          [9.7858e-01, 1.1326e-02, 5.7213e-04, 7.2520e-04, 8.3024e-04]]],\n",
       "\n",
       "\n",
       "        [[[8.8558e-01, 9.2110e-02, 6.9593e-03, 7.3842e-03, 7.9641e-03],\n",
       "          [9.8679e-01, 1.0732e-02, 6.6091e-04, 8.4730e-04, 9.7182e-04]],\n",
       "\n",
       "         [[8.5391e-01, 1.0499e-01, 7.6322e-03, 7.9098e-03, 8.4501e-03],\n",
       "          [9.7925e-01, 1.0671e-02, 5.7244e-04, 7.2443e-04, 8.2817e-04]]],\n",
       "\n",
       "\n",
       "        [[[8.8814e-01, 8.9500e-02, 6.9734e-03, 7.4048e-03, 7.9813e-03],\n",
       "          [9.8730e-01, 1.0221e-02, 6.6125e-04, 8.4643e-04, 9.6964e-04]],\n",
       "\n",
       "         [[8.5662e-01, 1.0216e-01, 7.6504e-03, 7.9366e-03, 8.4739e-03],\n",
       "          [9.7978e-01, 1.0155e-02, 5.7274e-04, 7.2384e-04, 8.2651e-04]]],\n",
       "\n",
       "\n",
       "        [[[8.9026e-01, 8.7339e-02, 6.9854e-03, 7.4220e-03, 7.9955e-03],\n",
       "          [9.8772e-01, 9.8089e-03, 6.6158e-04, 8.4576e-04, 9.6786e-04]],\n",
       "\n",
       "         [[8.5887e-01, 9.9802e-02, 7.6657e-03, 7.9589e-03, 8.4939e-03],\n",
       "          [9.8021e-01, 9.7392e-03, 5.7304e-04, 7.2339e-04, 8.2516e-04]]],\n",
       "\n",
       "\n",
       "        [[[8.9205e-01, 8.5513e-02, 6.9956e-03, 7.4367e-03, 8.0076e-03],\n",
       "          [9.8806e-01, 9.4684e-03, 6.6189e-04, 8.4521e-04, 9.6637e-04]],\n",
       "\n",
       "         [[8.6078e-01, 9.7808e-02, 7.6788e-03, 7.9780e-03, 8.5107e-03],\n",
       "          [9.8056e-01, 9.3957e-03, 5.7332e-04, 7.2303e-04, 8.2403e-04]]],\n",
       "\n",
       "\n",
       "        [[[8.9357e-01, 8.3964e-02, 7.0045e-03, 7.4492e-03, 8.0179e-03],\n",
       "          [9.8834e-01, 9.1849e-03, 6.6218e-04, 8.4476e-04, 9.6512e-04]],\n",
       "\n",
       "         [[8.6240e-01, 9.6114e-02, 7.6901e-03, 7.9942e-03, 8.5251e-03],\n",
       "          [9.8085e-01, 9.1098e-03, 5.7358e-04, 7.2274e-04, 8.2309e-04]]],\n",
       "\n",
       "\n",
       "        [[[8.9487e-01, 8.2626e-02, 7.0122e-03, 7.4601e-03, 8.0268e-03],\n",
       "          [9.8858e-01, 8.9442e-03, 6.6245e-04, 8.4439e-04, 9.6406e-04]],\n",
       "\n",
       "         [[8.6380e-01, 9.4649e-02, 7.6999e-03, 8.0083e-03, 8.5376e-03],\n",
       "          [9.8110e-01, 8.8671e-03, 5.7382e-04, 7.2250e-04, 8.2228e-04]]],\n",
       "\n",
       "\n",
       "        [[[8.9601e-01, 8.1471e-02, 7.0189e-03, 7.4695e-03, 8.0345e-03],\n",
       "          [9.8879e-01, 8.7391e-03, 6.6270e-04, 8.4408e-04, 9.6313e-04]],\n",
       "\n",
       "         [[8.6501e-01, 9.3382e-02, 7.7085e-03, 8.0206e-03, 8.5484e-03],\n",
       "          [9.8131e-01, 8.6603e-03, 5.7404e-04, 7.2230e-04, 8.2158e-04]]]],\n",
       "       device='cuda:0'), decoder_attention=tensor([[[[0.0000, 0.0000],\n",
       "          [0.0000, 0.0000]],\n",
       "\n",
       "         [[0.0160, 0.0000],\n",
       "          [0.0084, 0.0000]]],\n",
       "\n",
       "\n",
       "        [[[0.0000, 0.0000],\n",
       "          [0.0000, 0.0000]],\n",
       "\n",
       "         [[0.0163, 0.0000],\n",
       "          [0.0082, 0.0000]]],\n",
       "\n",
       "\n",
       "        [[[0.0000, 0.0000],\n",
       "          [0.0000, 0.0000]],\n",
       "\n",
       "         [[0.0166, 0.0000],\n",
       "          [0.0081, 0.0000]]],\n",
       "\n",
       "\n",
       "        [[[0.0000, 0.0000],\n",
       "          [0.0000, 0.0000]],\n",
       "\n",
       "         [[0.0167, 0.0000],\n",
       "          [0.0080, 0.0000]]],\n",
       "\n",
       "\n",
       "        [[[0.0000, 0.0000],\n",
       "          [0.0000, 0.0000]],\n",
       "\n",
       "         [[0.0169, 0.0000],\n",
       "          [0.0080, 0.0000]]],\n",
       "\n",
       "\n",
       "        [[[0.0000, 0.0000],\n",
       "          [0.0000, 0.0000]],\n",
       "\n",
       "         [[0.0170, 0.0000],\n",
       "          [0.0080, 0.0000]]],\n",
       "\n",
       "\n",
       "        [[[0.0000, 0.0000],\n",
       "          [0.0000, 0.0000]],\n",
       "\n",
       "         [[0.0170, 0.0000],\n",
       "          [0.0080, 0.0000]]],\n",
       "\n",
       "\n",
       "        [[[0.0000, 0.0000],\n",
       "          [0.0000, 0.0000]],\n",
       "\n",
       "         [[0.0171, 0.0000],\n",
       "          [0.0080, 0.0000]]],\n",
       "\n",
       "\n",
       "        [[[0.0000, 0.0000],\n",
       "          [0.0000, 0.0000]],\n",
       "\n",
       "         [[0.0172, 0.0000],\n",
       "          [0.0079, 0.0000]]],\n",
       "\n",
       "\n",
       "        [[[0.0000, 0.0000],\n",
       "          [0.0000, 0.0000]],\n",
       "\n",
       "         [[0.0172, 0.0000],\n",
       "          [0.0079, 0.0000]]],\n",
       "\n",
       "\n",
       "        [[[0.0000, 0.0000],\n",
       "          [0.0000, 0.0000]],\n",
       "\n",
       "         [[0.0172, 0.0000],\n",
       "          [0.0079, 0.0000]]],\n",
       "\n",
       "\n",
       "        [[[0.0000, 0.0000],\n",
       "          [0.0000, 0.0000]],\n",
       "\n",
       "         [[0.0173, 0.0000],\n",
       "          [0.0079, 0.0000]]],\n",
       "\n",
       "\n",
       "        [[[0.0000, 0.0000],\n",
       "          [0.0000, 0.0000]],\n",
       "\n",
       "         [[0.0173, 0.0000],\n",
       "          [0.0079, 0.0000]]],\n",
       "\n",
       "\n",
       "        [[[0.0000, 0.0000],\n",
       "          [0.0000, 0.0000]],\n",
       "\n",
       "         [[0.0173, 0.0000],\n",
       "          [0.0079, 0.0000]]]], device='cuda:0'), static_variables=tensor([], device='cuda:0', size=(14, 0)), encoder_variables=tensor([[[[1.]],\n",
       "\n",
       "         [[1.]],\n",
       "\n",
       "         [[1.]],\n",
       "\n",
       "         [[1.]],\n",
       "\n",
       "         [[1.]]],\n",
       "\n",
       "\n",
       "        [[[1.]],\n",
       "\n",
       "         [[1.]],\n",
       "\n",
       "         [[1.]],\n",
       "\n",
       "         [[1.]],\n",
       "\n",
       "         [[1.]]],\n",
       "\n",
       "\n",
       "        [[[1.]],\n",
       "\n",
       "         [[1.]],\n",
       "\n",
       "         [[1.]],\n",
       "\n",
       "         [[1.]],\n",
       "\n",
       "         [[1.]]],\n",
       "\n",
       "\n",
       "        [[[1.]],\n",
       "\n",
       "         [[1.]],\n",
       "\n",
       "         [[1.]],\n",
       "\n",
       "         [[1.]],\n",
       "\n",
       "         [[1.]]],\n",
       "\n",
       "\n",
       "        [[[1.]],\n",
       "\n",
       "         [[1.]],\n",
       "\n",
       "         [[1.]],\n",
       "\n",
       "         [[1.]],\n",
       "\n",
       "         [[1.]]],\n",
       "\n",
       "\n",
       "        [[[1.]],\n",
       "\n",
       "         [[1.]],\n",
       "\n",
       "         [[1.]],\n",
       "\n",
       "         [[1.]],\n",
       "\n",
       "         [[1.]]],\n",
       "\n",
       "\n",
       "        [[[1.]],\n",
       "\n",
       "         [[1.]],\n",
       "\n",
       "         [[1.]],\n",
       "\n",
       "         [[1.]],\n",
       "\n",
       "         [[1.]]],\n",
       "\n",
       "\n",
       "        [[[1.]],\n",
       "\n",
       "         [[1.]],\n",
       "\n",
       "         [[1.]],\n",
       "\n",
       "         [[1.]],\n",
       "\n",
       "         [[1.]]],\n",
       "\n",
       "\n",
       "        [[[1.]],\n",
       "\n",
       "         [[1.]],\n",
       "\n",
       "         [[1.]],\n",
       "\n",
       "         [[1.]],\n",
       "\n",
       "         [[1.]]],\n",
       "\n",
       "\n",
       "        [[[1.]],\n",
       "\n",
       "         [[1.]],\n",
       "\n",
       "         [[1.]],\n",
       "\n",
       "         [[1.]],\n",
       "\n",
       "         [[1.]]],\n",
       "\n",
       "\n",
       "        [[[1.]],\n",
       "\n",
       "         [[1.]],\n",
       "\n",
       "         [[1.]],\n",
       "\n",
       "         [[1.]],\n",
       "\n",
       "         [[1.]]],\n",
       "\n",
       "\n",
       "        [[[1.]],\n",
       "\n",
       "         [[1.]],\n",
       "\n",
       "         [[1.]],\n",
       "\n",
       "         [[1.]],\n",
       "\n",
       "         [[1.]]],\n",
       "\n",
       "\n",
       "        [[[1.]],\n",
       "\n",
       "         [[1.]],\n",
       "\n",
       "         [[1.]],\n",
       "\n",
       "         [[1.]],\n",
       "\n",
       "         [[1.]]],\n",
       "\n",
       "\n",
       "        [[[1.]],\n",
       "\n",
       "         [[1.]],\n",
       "\n",
       "         [[1.]],\n",
       "\n",
       "         [[1.]],\n",
       "\n",
       "         [[1.]]]], device='cuda:0'), decoder_variables=tensor([], device='cuda:0', size=(14, 2, 1, 0)), decoder_lengths=tensor([2, 2, 2, 2, 2, 2, 2, 2, 2, 2, 2, 2, 2, 2], device='cuda:0'), encoder_lengths=tensor([5, 5, 5, 5, 5, 5, 5, 5, 5, 5, 5, 5, 5, 5], device='cuda:0')), x={'encoder_cat': tensor([], device='cuda:0', size=(14, 5, 0), dtype=torch.int64), 'encoder_cont': tensor([[[ 1.1050],\n",
       "         [ 0.7002],\n",
       "         [ 0.1478],\n",
       "         [-0.5524],\n",
       "         [-1.4006]],\n",
       "\n",
       "        [[ 1.1368],\n",
       "         [ 0.6884],\n",
       "         [ 0.1201],\n",
       "         [-0.5683],\n",
       "         [-1.3770]],\n",
       "\n",
       "        [[ 1.1580],\n",
       "         [ 0.6801],\n",
       "         [ 0.1012],\n",
       "         [-0.5789],\n",
       "         [-1.3605]],\n",
       "\n",
       "        [[ 1.1732],\n",
       "         [ 0.6740],\n",
       "         [ 0.0875],\n",
       "         [-0.5865],\n",
       "         [-1.3482]],\n",
       "\n",
       "        [[ 1.1846],\n",
       "         [ 0.6692],\n",
       "         [ 0.0770],\n",
       "         [-0.5922],\n",
       "         [-1.3387]],\n",
       "\n",
       "        [[ 1.1934],\n",
       "         [ 0.6655],\n",
       "         [ 0.0689],\n",
       "         [-0.5966],\n",
       "         [-1.3312]],\n",
       "\n",
       "        [[ 1.2005],\n",
       "         [ 0.6625],\n",
       "         [ 0.0623],\n",
       "         [-0.6001],\n",
       "         [-1.3251]],\n",
       "\n",
       "        [[ 1.2062],\n",
       "         [ 0.6599],\n",
       "         [ 0.0569],\n",
       "         [-0.6030],\n",
       "         [-1.3201]],\n",
       "\n",
       "        [[ 1.2110],\n",
       "         [ 0.6578],\n",
       "         [ 0.0524],\n",
       "         [-0.6054],\n",
       "         [-1.3159]],\n",
       "\n",
       "        [[ 1.2150],\n",
       "         [ 0.6560],\n",
       "         [ 0.0486],\n",
       "         [-0.6074],\n",
       "         [-1.3123]],\n",
       "\n",
       "        [[ 1.2184],\n",
       "         [ 0.6545],\n",
       "         [ 0.0454],\n",
       "         [-0.6091],\n",
       "         [-1.3092]],\n",
       "\n",
       "        [[ 1.2214],\n",
       "         [ 0.6531],\n",
       "         [ 0.0426],\n",
       "         [-0.6106],\n",
       "         [-1.3065]],\n",
       "\n",
       "        [[ 1.2240],\n",
       "         [ 0.6520],\n",
       "         [ 0.0401],\n",
       "         [-0.6119],\n",
       "         [-1.3042]],\n",
       "\n",
       "        [[ 1.2262],\n",
       "         [ 0.6509],\n",
       "         [ 0.0380],\n",
       "         [-0.6130],\n",
       "         [-1.3021]]], device='cuda:0'), 'encoder_target': tensor([[0.9990, 0.9979, 0.9963, 0.9944, 0.9921],\n",
       "        [0.9979, 0.9963, 0.9944, 0.9921, 0.9893],\n",
       "        [0.9963, 0.9944, 0.9921, 0.9893, 0.9862],\n",
       "        [0.9944, 0.9921, 0.9893, 0.9862, 0.9826],\n",
       "        [0.9921, 0.9893, 0.9862, 0.9826, 0.9787],\n",
       "        [0.9893, 0.9862, 0.9826, 0.9787, 0.9743],\n",
       "        [0.9862, 0.9826, 0.9787, 0.9743, 0.9696],\n",
       "        [0.9826, 0.9787, 0.9743, 0.9696, 0.9644],\n",
       "        [0.9787, 0.9743, 0.9696, 0.9644, 0.9589],\n",
       "        [0.9743, 0.9696, 0.9644, 0.9589, 0.9529],\n",
       "        [0.9696, 0.9644, 0.9589, 0.9529, 0.9466],\n",
       "        [0.9644, 0.9589, 0.9529, 0.9466, 0.9399],\n",
       "        [0.9589, 0.9529, 0.9466, 0.9399, 0.9328],\n",
       "        [0.9529, 0.9466, 0.9399, 0.9328, 0.9254]], device='cuda:0'), 'encoder_lengths': tensor([5, 5, 5, 5, 5, 5, 5, 5, 5, 5, 5, 5, 5, 5], device='cuda:0'), 'decoder_cat': tensor([], device='cuda:0', size=(14, 2, 0), dtype=torch.int64), 'decoder_cont': tensor([[[-2.3970],\n",
       "         [-3.5420]],\n",
       "\n",
       "        [[-2.3064],\n",
       "         [-3.3566]],\n",
       "\n",
       "        [[-2.2437],\n",
       "         [-3.2288]],\n",
       "\n",
       "        [[-2.1977],\n",
       "         [-3.1355]],\n",
       "\n",
       "        [[-2.1627],\n",
       "         [-3.0645]],\n",
       "\n",
       "        [[-2.1351],\n",
       "         [-3.0087]],\n",
       "\n",
       "        [[-2.1129],\n",
       "         [-2.9637]],\n",
       "\n",
       "        [[-2.0946],\n",
       "         [-2.9267]],\n",
       "\n",
       "        [[-2.0793],\n",
       "         [-2.8959]],\n",
       "\n",
       "        [[-2.0663],\n",
       "         [-2.8697]],\n",
       "\n",
       "        [[-2.0551],\n",
       "         [-2.8473]],\n",
       "\n",
       "        [[-2.0455],\n",
       "         [-2.8279]],\n",
       "\n",
       "        [[-2.0371],\n",
       "         [-2.8110]],\n",
       "\n",
       "        [[-2.0297],\n",
       "         [-2.7962]]], device='cuda:0'), 'decoder_target': tensor([[0.9893, 0.9862],\n",
       "        [0.9862, 0.9826],\n",
       "        [0.9826, 0.9787],\n",
       "        [0.9787, 0.9743],\n",
       "        [0.9743, 0.9696],\n",
       "        [0.9696, 0.9644],\n",
       "        [0.9644, 0.9589],\n",
       "        [0.9589, 0.9529],\n",
       "        [0.9529, 0.9466],\n",
       "        [0.9466, 0.9399],\n",
       "        [0.9399, 0.9328],\n",
       "        [0.9328, 0.9254],\n",
       "        [0.9254, 0.9175],\n",
       "        [0.9175, 0.9093]], device='cuda:0'), 'decoder_lengths': tensor([2, 2, 2, 2, 2, 2, 2, 2, 2, 2, 2, 2, 2, 2], device='cuda:0'), 'decoder_time_idx': tensor([[85, 86],\n",
       "        [86, 87],\n",
       "        [87, 88],\n",
       "        [88, 89],\n",
       "        [89, 90],\n",
       "        [90, 91],\n",
       "        [91, 92],\n",
       "        [92, 93],\n",
       "        [93, 94],\n",
       "        [94, 95],\n",
       "        [95, 96],\n",
       "        [96, 97],\n",
       "        [97, 98],\n",
       "        [98, 99]], device='cuda:0'), 'groups': tensor([[0],\n",
       "        [0],\n",
       "        [0],\n",
       "        [0],\n",
       "        [0],\n",
       "        [0],\n",
       "        [0],\n",
       "        [0],\n",
       "        [0],\n",
       "        [0],\n",
       "        [0],\n",
       "        [0],\n",
       "        [0],\n",
       "        [0]], device='cuda:0'), 'target_scale': tensor([[0.5349, 0.0044],\n",
       "        [0.5318, 0.0054],\n",
       "        [0.5281, 0.0064],\n",
       "        [0.5237, 0.0074],\n",
       "        [0.5187, 0.0085],\n",
       "        [0.5130, 0.0095],\n",
       "        [0.5067, 0.0105],\n",
       "        [0.4997, 0.0116],\n",
       "        [0.4921, 0.0126],\n",
       "        [0.4838, 0.0137],\n",
       "        [0.4748, 0.0147],\n",
       "        [0.4652, 0.0158],\n",
       "        [0.4548, 0.0168],\n",
       "        [0.4439, 0.0179]], device='cuda:0')}, index=None, decoder_lengths=None, y=(tensor([[0.9893, 0.9862],\n",
       "        [0.9862, 0.9826],\n",
       "        [0.9826, 0.9787],\n",
       "        [0.9787, 0.9743],\n",
       "        [0.9743, 0.9696],\n",
       "        [0.9696, 0.9644],\n",
       "        [0.9644, 0.9589],\n",
       "        [0.9589, 0.9529],\n",
       "        [0.9529, 0.9466],\n",
       "        [0.9466, 0.9399],\n",
       "        [0.9399, 0.9328],\n",
       "        [0.9328, 0.9254],\n",
       "        [0.9254, 0.9175],\n",
       "        [0.9175, 0.9093]], device='cuda:0'), None))"
      ]
     },
     "execution_count": 18,
     "metadata": {},
     "output_type": "execute_result"
    }
   ],
   "source": [
    "test_pred_x_raw"
   ]
  },
  {
   "cell_type": "code",
   "execution_count": 24,
   "id": "068a9f34",
   "metadata": {},
   "outputs": [
    {
     "data": {
      "text/plain": [
       "('output', 'x', 'index', 'decoder_lengths', 'y')"
      ]
     },
     "execution_count": 24,
     "metadata": {},
     "output_type": "execute_result"
    }
   ],
   "source": [
    "test_pred_x_raw.keys()"
   ]
  },
  {
   "cell_type": "code",
   "execution_count": 59,
   "id": "d6cf8947",
   "metadata": {},
   "outputs": [
    {
     "data": {
      "text/plain": [
       "torch.Size([14, 2])"
      ]
     },
     "execution_count": 59,
     "metadata": {},
     "output_type": "execute_result"
    }
   ],
   "source": [
    "test_pred_x_raw.y[0].shape"
   ]
  },
  {
   "cell_type": "code",
   "execution_count": 94,
   "id": "f25c5280",
   "metadata": {},
   "outputs": [
    {
     "data": {
      "text/plain": [
       "('prediction',\n",
       " 'encoder_attention',\n",
       " 'decoder_attention',\n",
       " 'static_variables',\n",
       " 'encoder_variables',\n",
       " 'decoder_variables',\n",
       " 'decoder_lengths',\n",
       " 'encoder_lengths')"
      ]
     },
     "execution_count": 94,
     "metadata": {},
     "output_type": "execute_result"
    }
   ],
   "source": [
    "test_pred_x_raw.output.keys()"
   ]
  },
  {
   "cell_type": "code",
   "execution_count": 19,
   "id": "6bea652a",
   "metadata": {},
   "outputs": [
    {
     "data": {
      "text/plain": [
       "torch.Size([14, 2, 7])"
      ]
     },
     "execution_count": 19,
     "metadata": {},
     "output_type": "execute_result"
    }
   ],
   "source": [
    "test_pred_x_raw.output.prediction.shape"
   ]
  },
  {
   "cell_type": "code",
   "execution_count": 23,
   "id": "0aeccd81",
   "metadata": {},
   "outputs": [
    {
     "data": {
      "text/plain": [
       "dict_keys(['encoder_cat', 'encoder_cont', 'encoder_target', 'encoder_lengths', 'decoder_cat', 'decoder_cont', 'decoder_target', 'decoder_lengths', 'decoder_time_idx', 'groups', 'target_scale'])"
      ]
     },
     "execution_count": 23,
     "metadata": {},
     "output_type": "execute_result"
    }
   ],
   "source": [
    "test_pred_x_raw.x.keys()"
   ]
  },
  {
   "cell_type": "code",
   "execution_count": 67,
   "id": "c6c23e65",
   "metadata": {},
   "outputs": [
    {
     "data": {
      "text/plain": [
       "tensor([85, 86], device='cuda:0')"
      ]
     },
     "execution_count": 67,
     "metadata": {},
     "output_type": "execute_result"
    }
   ],
   "source": [
    "test_pred_x_raw.x[\"decoder_time_idx\"][0]"
   ]
  },
  {
   "cell_type": "code",
   "execution_count": null,
   "id": "97d7b11a",
   "metadata": {},
   "outputs": [
    {
     "data": {
      "image/png": "[encoded data removed]",
      "text/plain": [
       "<Figure size 640x480 with 2 Axes>"
      ]
     },
     "execution_count": 77,
     "metadata": {},
     "output_type": "execute_result"
    },
    {
     "data": {
      "image/png": "[encoded data removed]",
      "text/plain": [
       "<Figure size 640x480 with 2 Axes>"
      ]
     },
     "metadata": {},
     "output_type": "display_data"
    }
   ],
   "source": [
    "best_tft.plot_prediction(test_pred_x_raw.x, out=test_pred_x_raw.output,idx=0)"
   ]
  },
  {
   "cell_type": "code",
   "execution_count": null,
   "id": "6b0c3f8a",
   "metadata": {},
   "outputs": [],
   "source": []
  }
 ],
 "metadata": {
  "kernelspec": {
   "display_name": "Python (myenv)",
   "language": "python",
   "name": "myenv"
  },
  "language_info": {
   "codemirror_mode": {
    "name": "ipython",
    "version": 3
   },
   "file_extension": ".py",
   "mimetype": "text/x-python",
   "name": "python",
   "nbconvert_exporter": "python",
   "pygments_lexer": "ipython3",
   "version": "3.12.9"
  }
 },
 "nbformat": 4,
 "nbformat_minor": 5
}
